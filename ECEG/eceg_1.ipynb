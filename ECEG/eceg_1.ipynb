{
  "nbformat": 4,
  "nbformat_minor": 0,
  "metadata": {
    "colab": {
      "provenance": [],
      "collapsed_sections": [
        "9ymkNY7WR6zY"
      ],
      "authorship_tag": "ABX9TyMJo8Ux0/YZPaJlF3/cBTtr",
      "include_colab_link": true
    },
    "kernelspec": {
      "name": "python3",
      "display_name": "Python 3"
    },
    "language_info": {
      "name": "python"
    }
  },
  "cells": [
    {
      "cell_type": "markdown",
      "metadata": {
        "id": "view-in-github",
        "colab_type": "text"
      },
      "source": [
        "<a href=\"https://colab.research.google.com/github/Anjasfedo/eceg-lsb-lzw-huffman/blob/main/ECEG/eceg_1.ipynb\" target=\"_parent\"><img src=\"https://colab.research.google.com/assets/colab-badge.svg\" alt=\"Open In Colab\"/></a>"
      ]
    },
    {
      "cell_type": "code",
      "execution_count": 63,
      "metadata": {
        "id": "AEd-pcGMFEAb"
      },
      "outputs": [],
      "source": [
        "import random\n",
        "\n",
        "class Point:\n",
        "    def __init__(self, x=None, y=None):\n",
        "        self.x = x\n",
        "        self.y = y\n",
        "\n",
        "    def is_infinity(self):\n",
        "        \"\"\"Check if the point is the point at infinity.\"\"\"\n",
        "        return self.x is None and self.y is None\n",
        "\n",
        "    def __eq__(self, other):\n",
        "        \"\"\"Custom equality check for Point objects.\"\"\"\n",
        "        if isinstance(other, Point):\n",
        "            return self.x == other.x and self.y == other.y\n",
        "        return False\n",
        "\n",
        "    def __repr__(self):\n",
        "        if self.is_infinity():\n",
        "            return \"Point at Infinity\"\n",
        "        return f\"Point({self.x}, {self.y})\"\n",
        "\n",
        "class ECEG:\n",
        "  def __init__(self):\n",
        "    self.a = 6\n",
        "    self.b = 7\n",
        "    self.p = 61\n",
        "\n",
        "  def elliptic_curve_equation(self, x):\n",
        "    return (x**3 + self.a*x + self.b) % self.p\n",
        "\n",
        "  def is_on_curve(self, x, y):\n",
        "    return self.elliptic_curve_equation(x)  == (y**2) % self.p\n",
        "\n",
        "  def generate_random_point(self):\n",
        "    while True:\n",
        "      x = random.randint(1, self.p - 1)\n",
        "      y = random.randint(1, self.p - 1)\n",
        "      if self.is_on_curve(x, y):\n",
        "        return Point(x, y)\n",
        "\n",
        "  # def calc_point_add(self, P, Q):\n",
        "  #   R = Point()  # Initialize the result point R\n",
        "  #   print(P, Q)\n",
        "\n",
        "  #   slope = ((Q.y - P.y) / (Q.x - P.x))\n",
        "\n",
        "  #   # Calculate Rx\n",
        "  #   R.x = (slope**2 - P.x - Q.x)\n",
        "\n",
        "  #   # Calculate Ry\n",
        "  #   R.y = (slope * (P.x - R.x) - P.y)\n",
        "\n",
        "  #   return R\n",
        "\n",
        "  def calc_point_add(self, P, Q):\n",
        "    \"\"\"Calculate the addition of two points P and Q on the elliptic curve.\"\"\"\n",
        "    R = Point()  # Initialize the result point R\n",
        "\n",
        "    if P.is_infinity():\n",
        "        return Q\n",
        "    if Q.is_infinity():\n",
        "        return P\n",
        "\n",
        "    # Handle the case where P and Q are inverses\n",
        "    if P.x == Q.x and (P.y != Q.y or P.y == 0):\n",
        "        return Point()  # Point at infinity\n",
        "\n",
        "    # Calculate slope\n",
        "    if P.x == Q.x and P.y == Q.y:\n",
        "        # Point doubling\n",
        "        slope = (3 * P.x**2 + self.a) * pow(2 * P.y, -1, self.p) % self.p\n",
        "    else:\n",
        "        # Regular point addition\n",
        "        slope = (Q.y - P.y) * pow(Q.x - P.x, -1, self.p) % self.p\n",
        "\n",
        "    # Calculate Rx\n",
        "    R.x = (slope**2 - P.x - Q.x) % self.p\n",
        "\n",
        "    # Calculate Ry\n",
        "    R.y = (slope * (P.x - R.x) - P.y) % self.p\n",
        "\n",
        "    return R\n",
        "\n",
        "  def calc_point_doubling(self, P):\n",
        "      \"\"\"Calculate the point doubling 2P = P + P on the elliptic curve.\"\"\"\n",
        "      R = Point()  # Initialize the result point R\n",
        "\n",
        "      if P.is_infinity() or P.y == 0:\n",
        "          # Point at infinity for vertical tangent or zero y-coordinate\n",
        "          return Point()\n",
        "\n",
        "      # Calculate slope for point doubling\n",
        "      slope = (3 * P.x**2 + self.a) * pow(2 * P.y, -1, self.p) % self.p\n",
        "\n",
        "      # Calculate Rx\n",
        "      R.x = (slope**2 - 2 * P.x) % self.p\n",
        "\n",
        "      # Calculate Ry\n",
        "      R.y = (slope * (P.x - R.x) - P.y) % self.p\n",
        "\n",
        "      return R\n",
        "\n",
        "  def calc_point_subtraction(self, P, Q):\n",
        "      \"\"\"Calculate the subtraction of two points P - Q on the elliptic curve.\"\"\"\n",
        "      # Negate Q to get -Q\n",
        "      Q_neg = Point(Q.x, (-Q.y) % self.p)\n",
        "\n",
        "      # Add P and -Q\n",
        "      return self.calc_point_add(P, Q_neg)\n",
        "\n",
        "  def calc_point_multiplication(self, P, k):\n",
        "    \"\"\"Calculate kP using the double-and-add method.\"\"\"\n",
        "    R = Point()  # Start with the point at infinity\n",
        "    current_point = P\n",
        "\n",
        "    while k > 0:\n",
        "        if k % 2 == 1:\n",
        "            # If the current bit is 1, add the current point\n",
        "            R = self.calc_point_add(R, current_point)\n",
        "        # Double the point\n",
        "        current_point = self.calc_point_add(current_point, current_point)\n",
        "        k //= 2  # Move to the next bit\n",
        "\n",
        "    return R"
      ]
    },
    {
      "cell_type": "code",
      "source": [
        "import unittest\n",
        "\n",
        "class TestECEG(unittest.TestCase):\n",
        "    def setUp(self):\n",
        "        # Initialize the elliptic curve object and generate a random point for testing\n",
        "        self.elliptic = ECEG()\n",
        "        self.random_point = self.elliptic.generate_random_point()\n",
        "\n",
        "    def test_point_on_curve(self):\n",
        "        \"\"\"Test if a randomly generated point lies on the elliptic curve.\"\"\"\n",
        "        # Verify that the generated random point satisfies the curve equation\n",
        "        self.assertTrue(self.elliptic.is_on_curve(self.random_point.x, self.random_point.y), \"Point is not on the curve.\")\n",
        "\n",
        "    def test_addition_doubling(self):\n",
        "        \"\"\"Test if P + P equals 2P.\"\"\"\n",
        "        # Perform addition: P + P\n",
        "        result_add = self.elliptic.calc_point_add(self.random_point, self.random_point)\n",
        "        self.assertTrue(self.elliptic.is_on_curve(result_add.x, result_add.y), \"Addition result is not on the curve.\")\n",
        "\n",
        "        # Perform doubling: 2P\n",
        "        result_doubling = self.elliptic.calc_point_doubling(self.random_point)\n",
        "        self.assertTrue(self.elliptic.is_on_curve(result_doubling.x, result_doubling.y), \"Doubling result is not on the curve.\")\n",
        "\n",
        "        # Verify that P + P equals 2P\n",
        "        self.assertEqual(result_add, result_doubling, \"P + P does not equal 2P.\")\n",
        "\n",
        "    def test_calc_addition_subtraction(self):\n",
        "        \"\"\"Test if (P + P) - P equals P.\"\"\"\n",
        "        # Perform addition: P + P\n",
        "        result_add = self.elliptic.calc_point_add(self.random_point, self.random_point)\n",
        "        self.assertTrue(self.elliptic.is_on_curve(result_add.x, result_add.y), \"Addition result is not on the curve.\")\n",
        "\n",
        "        # Perform subtraction: (P + P) - P\n",
        "        result_subtraction = self.elliptic.calc_point_subtraction(result_add, self.random_point)\n",
        "        self.assertTrue(self.elliptic.is_on_curve(result_subtraction.x, result_subtraction.y), \"Subtraction result is not on the curve.\")\n",
        "\n",
        "        # Verify that (P + P) - P equals P\n",
        "        self.assertEqual(result_subtraction, self.random_point, \"(P + P) - P does not equal P\")\n",
        "\n",
        "    def test_calc_doubling_multiplication(self):\n",
        "        \"\"\"Test if 2P doubling 2P equals 4P.\"\"\"\n",
        "        # Perform first doubling: 2P\n",
        "        result_doubling_first = self.elliptic.calc_point_doubling(self.random_point)\n",
        "        self.assertTrue(self.elliptic.is_on_curve(result_doubling_first.x, result_doubling_first.y), \"Doubling result first is not on the curve.\")\n",
        "\n",
        "        # Perform second doubling: 4P\n",
        "        result_doubling_second = self.elliptic.calc_point_doubling(result_doubling_first)\n",
        "        self.assertTrue(self.elliptic.is_on_curve(result_doubling_second.x, result_doubling_second.y), \"Doubling result second is not on the curve.\")\n",
        "\n",
        "        # Calculate 4P using scalar multiplication\n",
        "        k = 4\n",
        "        result_multiplication = self.elliptic.calc_point_multiplication(self.random_point, k)\n",
        "\n",
        "        self.assertTrue(self.elliptic.is_on_curve(result_multiplication.x, result_multiplication.y), \"Multiplication result is not on the curve.\")\n",
        "\n",
        "        # Verify that 2P doubling 2P equals 4P\n",
        "        self.assertEqual(result_doubling_second, result_multiplication, \"2P doubling 2P does not equal 4P\")\n",
        "\n",
        "    def test_calc_addition_doubling_subtraction_multiplication(self):\n",
        "        \"\"\"Test if (2P + 2P + 2P) - (P + P) equals 4P.\"\"\"\n",
        "        # Generate a random point\n",
        "        random_point = self.elliptic.generate_random_point()\n",
        "        self.assertTrue(self.elliptic.is_on_curve(random_point.x, random_point.y), \"Random point is not on the curve.\")\n",
        "\n",
        "        # Calculate (P + P)\n",
        "        result_right = self.elliptic.calc_point_add(random_point, random_point)\n",
        "        self.assertTrue(self.elliptic.is_on_curve(result_right.x, result_right.y), \"Addition result is not on the curve.\")\n",
        "\n",
        "        # Calculate (2P)\n",
        "        doubled_point = self.elliptic.calc_point_doubling(random_point)\n",
        "        self.assertTrue(self.elliptic.is_on_curve(doubled_point.x, doubled_point.y), \"Doubling result is not on the curve.\")\n",
        "\n",
        "        # Calculate (2P + 2P + 2P)\n",
        "        result_left = self.elliptic.calc_point_add(doubled_point, doubled_point)\n",
        "        result_left = self.elliptic.calc_point_add(result_left, doubled_point)\n",
        "        self.assertTrue(self.elliptic.is_on_curve(result_left.x, result_left.y), \"Result of 2P + 2P + 2P is not on the curve.\")\n",
        "\n",
        "        # Calculate (2P + 2P + 2P) - (P + P)\n",
        "        result_subtraction = self.elliptic.calc_point_subtraction(result_left, result_right)\n",
        "        self.assertTrue(self.elliptic.is_on_curve(result_subtraction.x, result_subtraction.y), \"Subtraction result is not on the curve.\")\n",
        "\n",
        "        # Calculate 4P using multiplication\n",
        "        k = 4\n",
        "        result_multiplication = self.elliptic.calc_point_multiplication(random_point, k)\n",
        "        self.assertTrue(self.elliptic.is_on_curve(result_multiplication.x, result_multiplication.y), \"Multiplication result is not on the curve.\")\n",
        "\n",
        "        # Verify (2P + 2P + 2P) - (P + P) equals 4P\n",
        "        self.assertEqual(result_subtraction, result_multiplication, \"(2P + 2P + 2P) - (P + P) does not equal 4P\")\n",
        "\n",
        "\n",
        "# Run the unittest tests in Colab\n",
        "if __name__ == \"__main__\":\n",
        "    unittest.main(argv=[''], verbosity=2, exit=False)\n"
      ],
      "metadata": {
        "colab": {
          "base_uri": "https://localhost:8080/"
        },
        "id": "ekfTWySjPYXO",
        "outputId": "01d3806f-ec89-4db7-b368-4caa42558ca5"
      },
      "execution_count": 78,
      "outputs": [
        {
          "output_type": "stream",
          "name": "stderr",
          "text": [
            "test_addition_doubling (__main__.TestECEG)\n",
            "Test if P + P equals 2P. ... ok\n",
            "test_calc_addition_doubling_subtraction_multiplication (__main__.TestECEG)\n",
            "Test if (2P + 2P + 2P) - (P + P) equals 4P. ... ok\n",
            "test_calc_addition_subtraction (__main__.TestECEG)\n",
            "Test if P - 2P equals P ... ok\n",
            "test_calc_doubling_multiplication (__main__.TestECEG)\n",
            "Test if 2P doubling 2P equals 4P. ... ok\n",
            "test_point_on_curve (__main__.TestECEG) ... ok\n",
            "\n",
            "----------------------------------------------------------------------\n",
            "Ran 5 tests in 0.021s\n",
            "\n",
            "OK\n"
          ]
        }
      ]
    },
    {
      "cell_type": "markdown",
      "source": [
        "# Dump code"
      ],
      "metadata": {
        "id": "zwQup7HWQkNv"
      }
    },
    {
      "cell_type": "markdown",
      "source": [
        "## test case"
      ],
      "metadata": {
        "id": "9ymkNY7WR6zY"
      }
    },
    {
      "cell_type": "code",
      "source": [
        "def test_calc_add_and_doubling():\n",
        "    elliptic = ECEG()\n",
        "\n",
        "    # Generate a valid random point\n",
        "    random_point = elliptic.generate_random_point()\n",
        "    print(f\"Random Point: {random_point}\")\n",
        "\n",
        "    # Ensure the generated point lies on the curve\n",
        "    assert elliptic.is_on_curve(random_point.x, random_point.y), \"Generated point is not on the curve.\"\n",
        "\n",
        "    # Perform point addition (P + P)\n",
        "    result_add = elliptic.calc_point_add(random_point, random_point)\n",
        "    print(f\"Result of P + P (Addition): {result_add}\")\n",
        "\n",
        "    # Perform point doubling (2P)\n",
        "    result_doubling = elliptic.calc_point_doubling(random_point)\n",
        "    print(f\"Result of 2P (Doubling): {result_doubling}\")\n",
        "\n",
        "    # Ensure both addition and doubling results lie on the curve\n",
        "    assert elliptic.is_on_curve(result_add.x, result_add.y), \"Addition result is not on the curve.\"\n",
        "    assert elliptic.is_on_curve(result_doubling.x, result_doubling.y), \"Doubling result is not on the curve.\"\n",
        "\n",
        "    if (result_add == result_doubling):\n",
        "      print(\"Test passed: Point addition and doubling produce the same result.\")\n",
        "    else:\n",
        "      Exception(\"Test failed: Point addition and doubling do not produce the same result.\")\n",
        "\n",
        "# Run the test\n",
        "test_calc_add_and_doubling()"
      ],
      "metadata": {
        "colab": {
          "base_uri": "https://localhost:8080/"
        },
        "id": "1YMp4H9rMJc7",
        "outputId": "d2039343-b131-4d61-c6b3-b3b8ce5a6051"
      },
      "execution_count": 59,
      "outputs": [
        {
          "output_type": "stream",
          "name": "stdout",
          "text": [
            "Random Point: Point(28, 17)\n",
            "Result of P + P (Addition): Point(41, 0)\n",
            "Result of 2P (Doubling): Point(41, 0)\n"
          ]
        }
      ]
    },
    {
      "cell_type": "code",
      "source": [
        "def test_calc_subtraction():\n",
        "  elliptic = ECEG()\n",
        "  random_point = elliptic.generate_random_point()\n",
        "  print(random_point)\n",
        "\n",
        "  result_add = elliptic.calc_point_add(random_point, random_point)\n",
        "  print(result_add)\n",
        "\n",
        "  result_subtraction = elliptic.calc_point_subtraction(result_add, random_point)\n",
        "  print(result_subtraction)\n",
        "\n",
        "  assert result_subtraction != random_point, \"should be same\"\n",
        "\n",
        "test_calc_subtraction()"
      ],
      "metadata": {
        "colab": {
          "base_uri": "https://localhost:8080/"
        },
        "id": "r16cZXTpMaDb",
        "outputId": "40e68ded-ce61-4446-d951-7993b9fa58d5"
      },
      "execution_count": 38,
      "outputs": [
        {
          "output_type": "stream",
          "name": "stdout",
          "text": [
            "Point(42, 7)\n",
            "Point(2, 37)\n",
            "Point(42, 7)\n"
          ]
        }
      ]
    },
    {
      "cell_type": "code",
      "source": [
        "def test_calc_multiplication():\n",
        "  elliptic = ECEG()\n",
        "  random_point = elliptic.generate_random_point()\n",
        "  print(random_point)\n",
        "\n",
        "  result_doubling = elliptic.calc_point_doubling(random_point)\n",
        "  print(result_doubling)\n",
        "\n",
        "  result_doubling_2 = elliptic.calc_point_doubling(result_doubling)\n",
        "  print(result_doubling_2)\n",
        "\n",
        "  result_multiplication = elliptic.calc_point_multiplication(random_point, 2)\n",
        "  print(result_multiplication)\n",
        "\n",
        "  assert result_multiplication != result_doubling_2, \"should be same\"\n",
        "\n",
        "test_calc_multiplication()"
      ],
      "metadata": {
        "colab": {
          "base_uri": "https://localhost:8080/"
        },
        "id": "HO0G7VEPNQpc",
        "outputId": "e1a0e614-dce2-4ee9-9fe6-b1ecc49a7a92"
      },
      "execution_count": 39,
      "outputs": [
        {
          "output_type": "stream",
          "name": "stdout",
          "text": [
            "Point(11, 1)\n",
            "Point(26, 7)\n",
            "Point(57, 38)\n",
            "Point(26, 7)\n"
          ]
        }
      ]
    },
    {
      "cell_type": "code",
      "source": [
        "5 * 2 * 2, 5 * 2"
      ],
      "metadata": {
        "colab": {
          "base_uri": "https://localhost:8080/"
        },
        "id": "ur2wHGt1NsI1",
        "outputId": "b1a71f70-fe32-4937-ce6f-6f923598f2da"
      },
      "execution_count": 42,
      "outputs": [
        {
          "output_type": "execute_result",
          "data": {
            "text/plain": [
              "(20, 10)"
            ]
          },
          "metadata": {},
          "execution_count": 42
        }
      ]
    }
  ]
}