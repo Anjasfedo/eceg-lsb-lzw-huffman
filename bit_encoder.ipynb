{
  "nbformat": 4,
  "nbformat_minor": 0,
  "metadata": {
    "colab": {
      "provenance": [],
      "authorship_tag": "ABX9TyPscLvuDgZyD0+1+ax1nHxa",
      "include_colab_link": true
    },
    "kernelspec": {
      "name": "python3",
      "display_name": "Python 3"
    },
    "language_info": {
      "name": "python"
    }
  },
  "cells": [
    {
      "cell_type": "markdown",
      "metadata": {
        "id": "view-in-github",
        "colab_type": "text"
      },
      "source": [
        "<a href=\"https://colab.research.google.com/github/Anjasfedo/eceg-lsb-lzw-huffman/blob/main/bit_encoder.ipynb\" target=\"_parent\"><img src=\"https://colab.research.google.com/assets/colab-badge.svg\" alt=\"Open In Colab\"/></a>"
      ]
    },
    {
      "cell_type": "code",
      "execution_count": null,
      "metadata": {
        "colab": {
          "base_uri": "https://localhost:8080/"
        },
        "id": "dFvemkuMWHv6",
        "outputId": "82b55655-e6fb-4be7-882f-3da7db1f7a52"
      },
      "outputs": [
        {
          "output_type": "execute_result",
          "data": {
            "text/plain": [
              "24"
            ]
          },
          "metadata": {},
          "execution_count": 1
        }
      ],
      "source": [
        "278 % 255 + 1"
      ]
    },
    {
      "cell_type": "code",
      "source": [
        "# Example string\n",
        "original_string = \"Hello, world! 🌍\"\n",
        "\n",
        "# Encoding the string into UTF-8\n",
        "encoded_string = original_string.encode('utf-8')\n",
        "print(f\"Encoded (UTF-8) bytes: {encoded_string}\")\n",
        "\n",
        "# Decoding the UTF-8 bytes back into the string\n",
        "decoded_string = encoded_string.decode('utf-8')\n",
        "print(f\"Decoded string: {decoded_string}\")\n"
      ],
      "metadata": {
        "colab": {
          "base_uri": "https://localhost:8080/"
        },
        "id": "P9k8GRNWXKtG",
        "outputId": "0789529b-b5c6-4cc2-9703-9dd1fd8ba1ab"
      },
      "execution_count": null,
      "outputs": [
        {
          "output_type": "stream",
          "name": "stdout",
          "text": [
            "Encoded (UTF-8) bytes: b'Hello, world! \\xf0\\x9f\\x8c\\x8d'\n",
            "Decoded string: Hello, world! 🌍\n"
          ]
        }
      ]
    },
    {
      "cell_type": "code",
      "source": [
        "# Convert the string into its UTF-8 encoded byte representation\n",
        "original_string = \"Hello, world! 🌍\"\n",
        "\n",
        "# Encoding the string into UTF-8\n",
        "encoded_string = original_string.encode('utf-8')\n",
        "\n",
        "# Convert the encoded bytes to their bit representations\n",
        "bit_representation = ' '.join(format(byte, '08b') for byte in original_string)\n",
        "bit_representation\n"
      ],
      "metadata": {
        "colab": {
          "base_uri": "https://localhost:8080/",
          "height": 297
        },
        "id": "PYB_K5EcXe2C",
        "outputId": "82864320-be4d-4994-c1b0-0d476fe9da26"
      },
      "execution_count": null,
      "outputs": [
        {
          "output_type": "error",
          "ename": "ValueError",
          "evalue": "Unknown format code 'b' for object of type 'str'",
          "traceback": [
            "\u001b[0;31m---------------------------------------------------------------------------\u001b[0m",
            "\u001b[0;31mValueError\u001b[0m                                Traceback (most recent call last)",
            "\u001b[0;32m<ipython-input-4-d7b17095f8f3>\u001b[0m in \u001b[0;36m<cell line: 0>\u001b[0;34m()\u001b[0m\n\u001b[1;32m      6\u001b[0m \u001b[0;34m\u001b[0m\u001b[0m\n\u001b[1;32m      7\u001b[0m \u001b[0;31m# Convert the encoded bytes to their bit representations\u001b[0m\u001b[0;34m\u001b[0m\u001b[0;34m\u001b[0m\u001b[0m\n\u001b[0;32m----> 8\u001b[0;31m \u001b[0mbit_representation\u001b[0m \u001b[0;34m=\u001b[0m \u001b[0;34m' '\u001b[0m\u001b[0;34m.\u001b[0m\u001b[0mjoin\u001b[0m\u001b[0;34m(\u001b[0m\u001b[0mformat\u001b[0m\u001b[0;34m(\u001b[0m\u001b[0mbyte\u001b[0m\u001b[0;34m,\u001b[0m \u001b[0;34m'08b'\u001b[0m\u001b[0;34m)\u001b[0m \u001b[0;32mfor\u001b[0m \u001b[0mbyte\u001b[0m \u001b[0;32min\u001b[0m \u001b[0moriginal_string\u001b[0m\u001b[0;34m)\u001b[0m\u001b[0;34m\u001b[0m\u001b[0;34m\u001b[0m\u001b[0m\n\u001b[0m\u001b[1;32m      9\u001b[0m \u001b[0mbit_representation\u001b[0m\u001b[0;34m\u001b[0m\u001b[0;34m\u001b[0m\u001b[0m\n",
            "\u001b[0;32m<ipython-input-4-d7b17095f8f3>\u001b[0m in \u001b[0;36m<genexpr>\u001b[0;34m(.0)\u001b[0m\n\u001b[1;32m      6\u001b[0m \u001b[0;34m\u001b[0m\u001b[0m\n\u001b[1;32m      7\u001b[0m \u001b[0;31m# Convert the encoded bytes to their bit representations\u001b[0m\u001b[0;34m\u001b[0m\u001b[0;34m\u001b[0m\u001b[0m\n\u001b[0;32m----> 8\u001b[0;31m \u001b[0mbit_representation\u001b[0m \u001b[0;34m=\u001b[0m \u001b[0;34m' '\u001b[0m\u001b[0;34m.\u001b[0m\u001b[0mjoin\u001b[0m\u001b[0;34m(\u001b[0m\u001b[0mformat\u001b[0m\u001b[0;34m(\u001b[0m\u001b[0mbyte\u001b[0m\u001b[0;34m,\u001b[0m \u001b[0;34m'08b'\u001b[0m\u001b[0;34m)\u001b[0m \u001b[0;32mfor\u001b[0m \u001b[0mbyte\u001b[0m \u001b[0;32min\u001b[0m \u001b[0moriginal_string\u001b[0m\u001b[0;34m)\u001b[0m\u001b[0;34m\u001b[0m\u001b[0;34m\u001b[0m\u001b[0m\n\u001b[0m\u001b[1;32m      9\u001b[0m \u001b[0mbit_representation\u001b[0m\u001b[0;34m\u001b[0m\u001b[0;34m\u001b[0m\u001b[0m\n",
            "\u001b[0;31mValueError\u001b[0m: Unknown format code 'b' for object of type 'str'"
          ]
        }
      ]
    },
    {
      "cell_type": "code",
      "source": [
        "def encode_with_metadata(message):\n",
        "    # Step 1: Get the length of the message in bits\n",
        "    message_bits = ''.join(format(ord(c), '08b') for c in message)\n",
        "    message_length = len(message_bits)\n",
        "\n",
        "    # Step 2: Create the metadata (first 32 bits to store the length)\n",
        "    length_bits = format(message_length, '032b')  # 32-bit binary representation of length\n",
        "\n",
        "    # Step 3: Concatenate length metadata and message\n",
        "    full_message = length_bits + message_bits\n",
        "\n",
        "    return full_message\n",
        "\n",
        "def decode_with_metadata(bits):\n",
        "    # Step 1: Extract the first 32 bits for the metadata (length of the message)\n",
        "    length_bits = bits[:32]\n",
        "    message_length = int(length_bits, 2)\n",
        "\n",
        "    # Step 2: Extract the actual message based on the length\n",
        "    message_bits = bits[32:32 + message_length]\n",
        "\n",
        "    # Step 3: Convert the message bits back to characters\n",
        "    message = ''.join(chr(int(message_bits[i:i+8], 2)) for i in range(0, len(message_bits), 8))\n",
        "\n",
        "    return message\n",
        "\n",
        "# Example usage:\n",
        "message = \"Hello, World!\"\n",
        "encoded_bits = encode_with_metadata(message)\n",
        "print(f\"Encoded bits: {encoded_bits}\")\n",
        "\n",
        "decoded_message = decode_with_metadata(encoded_bits)\n",
        "print(f\"Decoded message: {decoded_message}\")\n"
      ],
      "metadata": {
        "colab": {
          "base_uri": "https://localhost:8080/"
        },
        "id": "hHyxd5AdyG7v",
        "outputId": "751771f6-34e9-4b46-b425-8f65b12c1db0"
      },
      "execution_count": null,
      "outputs": [
        {
          "output_type": "stream",
          "name": "stdout",
          "text": [
            "Encoded bits: 0000000000000000000000000110100001001000011001010110110001101100011011110010110000100000010101110110111101110010011011000110010000100001\n",
            "Decoded message: Hello, World!\n"
          ]
        }
      ]
    },
    {
      "cell_type": "code",
      "source": [
        "def encode_with_metadata(bits):\n",
        "    # Step 1: Get the length of the bit string\n",
        "    bit_length = len(bits)\n",
        "\n",
        "    # Step 2: Create the metadata (first 32 bits to store the length)\n",
        "    length_bits = format(bit_length, '032b')  # 32-bit binary representation of length\n",
        "\n",
        "    # Step 3: Concatenate length metadata and the actual bit string\n",
        "    full_message = length_bits + bits\n",
        "\n",
        "    return full_message\n",
        "\n",
        "def decode_with_metadata(bits):\n",
        "    # Step 1: Extract the first 32 bits for the metadata (length of the message)\n",
        "    length_bits = bits[:32]\n",
        "    message_length = int(length_bits, 2)\n",
        "\n",
        "    # Step 2: Extract the actual message based on the length\n",
        "    message_bits = bits[32:32 + message_length]\n",
        "\n",
        "    return message_bits\n",
        "\n",
        "# Example usage:\n",
        "# Input: a string of bits (no conversion from text)\n",
        "bits = \"0100010101010101010101000100101010101010100010111110100101\"\n",
        "print(f\"Original bits: {bits}\")\n",
        "\n",
        "# Encode the bit string with the embedded metadata\n",
        "encoded_bits = encode_with_metadata(bits)\n",
        "print(f\"Encoded bits with metadata: {encoded_bits}\")\n",
        "\n",
        "# Decode the bit string with the embedded metadata\n",
        "decoded_bits = decode_with_metadata(encoded_bits)\n",
        "print(f\"Decoded bits: {decoded_bits}\")\n",
        "\n",
        "assert bits == decoded_bits"
      ],
      "metadata": {
        "colab": {
          "base_uri": "https://localhost:8080/"
        },
        "id": "XHR1OSxkyQDH",
        "outputId": "be87a948-a374-4024-d3be-a86db7355b34"
      },
      "execution_count": null,
      "outputs": [
        {
          "output_type": "stream",
          "name": "stdout",
          "text": [
            "Original bits: 0100010101010101010101000100101010101010100010111110100101\n",
            "Encoded bits with metadata: 000000000000000000000000001110100100010101010101010101000100101010101010100010111110100101\n",
            "Decoded bits: 0100010101010101010101000100101010101010100010111110100101\n"
          ]
        }
      ]
    },
    {
      "cell_type": "code",
      "source": [
        "def encode_with_padding_info(bits):\n",
        "    # Step 1: Calculate the padding needed to make the bit length a multiple of 8\n",
        "    padding_needed = (8 - len(bits) % 8) % 8  # Number of bits to pad\n",
        "\n",
        "    # Step 2: Embed the padding length in the first 8 bits\n",
        "    padding_length_bits = format(padding_needed, '08b')  # 8-bit binary representation of padding length\n",
        "\n",
        "    # Step 3: Pad the message with zeroes (if any padding is needed)\n",
        "    padded_bits = bits + '0' * padding_needed\n",
        "\n",
        "    # Step 4: Combine the padding information and the padded bits\n",
        "    full_message = padding_length_bits + padded_bits\n",
        "\n",
        "    # Step 5: Convert the full message into 8-bit chunks and encode as ASCII\n",
        "    encoded_chars = [chr(int(full_message[i:i+8], 2)) for i in range(0, len(full_message), 8)]\n",
        "\n",
        "    return ''.join(encoded_chars)\n",
        "\n",
        "def decode_with_padding_info(encoded):\n",
        "    # Step 1: Convert the encoded ASCII string back to a bit string\n",
        "    bits = ''.join(format(ord(c), '08b') for c in encoded)\n",
        "\n",
        "    # Step 2: Extract the first 8 bits as padding length\n",
        "    padding_length_bits = bits[:8]\n",
        "    padding_length = int(padding_length_bits, 2)\n",
        "\n",
        "    # Step 3: Extract the actual message bits (without the padding)\n",
        "    message_bits = bits[8:]  # Exclude the first 8 bits (padding length)\n",
        "\n",
        "    # Step 4: Remove the padding bits\n",
        "    message_bits = message_bits[:-padding_length] if padding_length > 0 else message_bits\n",
        "\n",
        "    return message_bits\n",
        "\n",
        "# Example usage:\n",
        "# Input: a string of bits (no conversion from text)\n",
        "bits = \"0100010101010101010101000100101010101010100010111110100101\"\n",
        "print(f\"Original bits: {bits}\")\n",
        "\n",
        "# Encode the bit string with the embedded padding information\n",
        "encoded_bits = encode_with_padding_info(bits)\n",
        "print(f\"Encoded bits as ASCII: {encoded_bits}\")\n",
        "\n",
        "# Decode the encoded string to get the original bit string back (without padding)\n",
        "decoded_bits = decode_with_padding_info(encoded_bits)\n",
        "print(f\"Decoded bits: {decoded_bits}\")\n",
        "\n",
        "assert all(1 <= ord(c) <= 255 for c in encoded_bits), \"Error: Non-ASCII-safe characters found!\"\n",
        "assert bits == decoded_bits"
      ],
      "metadata": {
        "colab": {
          "base_uri": "https://localhost:8080/"
        },
        "id": "IKFV4bqcy0eo",
        "outputId": "3204951c-4ada-4ad9-a56b-39ccfe772099"
      },
      "execution_count": null,
      "outputs": [
        {
          "output_type": "stream",
          "name": "stdout",
          "text": [
            "Original bits: 0100010101010101010101000100101010101010100010111110100101\n",
            "Encoded bits as ASCII: \u0006EUTJªé@\n",
            "Decoded bits: 0100010101010101010101000100101010101010100010111110100101\n"
          ]
        }
      ]
    }
  ]
}