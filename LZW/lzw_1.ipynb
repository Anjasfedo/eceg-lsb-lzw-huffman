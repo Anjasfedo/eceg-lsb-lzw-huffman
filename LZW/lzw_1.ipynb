{
  "nbformat": 4,
  "nbformat_minor": 0,
  "metadata": {
    "colab": {
      "provenance": [],
      "authorship_tag": "ABX9TyMgQ++6A8R6ttx5PVEGh2OR",
      "include_colab_link": true
    },
    "kernelspec": {
      "name": "python3",
      "display_name": "Python 3"
    },
    "language_info": {
      "name": "python"
    }
  },
  "cells": [
    {
      "cell_type": "markdown",
      "metadata": {
        "id": "view-in-github",
        "colab_type": "text"
      },
      "source": [
        "<a href=\"https://colab.research.google.com/github/Anjasfedo/eceg-lsb-lzw-huffman/blob/main/LZW/lzw_1.ipynb\" target=\"_parent\"><img src=\"https://colab.research.google.com/assets/colab-badge.svg\" alt=\"Open In Colab\"/></a>"
      ]
    },
    {
      "cell_type": "markdown",
      "source": [
        "# KTP Faker"
      ],
      "metadata": {
        "id": "ldB92hIVEo2-"
      }
    },
    {
      "cell_type": "code",
      "source": [
        "!pip install faker"
      ],
      "metadata": {
        "colab": {
          "base_uri": "https://localhost:8080/"
        },
        "id": "scQEc-m7Edco",
        "outputId": "24bf6a1b-5177-4d15-ad7e-26606f501f44"
      },
      "execution_count": 2,
      "outputs": [
        {
          "output_type": "stream",
          "name": "stdout",
          "text": [
            "Collecting faker\n",
            "  Downloading Faker-33.1.0-py3-none-any.whl.metadata (15 kB)\n",
            "Requirement already satisfied: python-dateutil>=2.4 in /usr/local/lib/python3.10/dist-packages (from faker) (2.8.2)\n",
            "Requirement already satisfied: typing-extensions in /usr/local/lib/python3.10/dist-packages (from faker) (4.12.2)\n",
            "Requirement already satisfied: six>=1.5 in /usr/local/lib/python3.10/dist-packages (from python-dateutil>=2.4->faker) (1.17.0)\n",
            "Downloading Faker-33.1.0-py3-none-any.whl (1.9 MB)\n",
            "\u001b[2K   \u001b[90m━━━━━━━━━━━━━━━━━━━━━━━━━━━━━━━━━━━━━━━━\u001b[0m \u001b[32m1.9/1.9 MB\u001b[0m \u001b[31m19.2 MB/s\u001b[0m eta \u001b[36m0:00:00\u001b[0m\n",
            "\u001b[?25hInstalling collected packages: faker\n",
            "Successfully installed faker-33.1.0\n"
          ]
        }
      ]
    },
    {
      "cell_type": "code",
      "source": [
        "from faker import Faker\n",
        "import random\n",
        "\n",
        "class DummyKTPGenerator:\n",
        "    def __init__(self):\n",
        "        self.faker = Faker('id_ID')  # Use Indonesian locale\n",
        "        self.indonesian_jobs = [\n",
        "            \"Guru\", \"Dokter\", \"Petani\", \"Nelayan\", \"Pegawai Negeri\", \"Karyawan Swasta\",\n",
        "            \"Wiraswasta\", \"Mahasiswa\", \"Pelajar\", \"Pengacara\", \"Arsitek\", \"Insinyur\",\n",
        "            \"Pedagang\", \"Polisi\", \"Tentara\", \"Seniman\", \"Penulis\", \"Pilot\", \"Supir\",\n",
        "            \"Teknisi\", \"Pemadam Kebakaran\", \"Apoteker\"\n",
        "        ]\n",
        "\n",
        "    def generate_ktp(self):\n",
        "        \"\"\"Generate a single dummy KTP record.\"\"\"\n",
        "        nik = self.generate_nik()\n",
        "        name = self.faker.name()\n",
        "        birth_place = self.faker.city()\n",
        "        birth_date = self.faker.date_of_birth().strftime('%d-%m-%Y')\n",
        "        gender = random.choice(['Laki-Laki', 'Perempuan'])\n",
        "        blood_type = random.choice(['A', 'B', 'AB', 'O'])\n",
        "        address = self.faker.address().replace('\\n', ', ')\n",
        "        rt_rw = f\"{random.randint(1, 20)}/{random.randint(1, 20)}\"\n",
        "        kelurahan = self.faker.city_suffix()\n",
        "        religion = random.choice(['Islam', 'Kristen', 'Katolik', 'Hindu', 'Buddha', 'Konghucu'])\n",
        "        marital_status = random.choice(['Belum Kawin', 'Kawin', 'Cerai Hidup', 'Cerai Mati'])\n",
        "        occupation = random.choice(self.indonesian_jobs)  # Select random Indonesian job\n",
        "        nationality = 'WNI'  # Assuming all generated data is Indonesian\n",
        "        valid_until = 'SEUMUR HIDUP'\n",
        "\n",
        "        return {\n",
        "            'NIK': nik,\n",
        "            'Nama': name,\n",
        "            'Tempat/Tgl Lahir': f\"{birth_place}, {birth_date}\",\n",
        "            'Jenis Kelamin': gender,\n",
        "            'Gol Darah': blood_type,\n",
        "            'Alamat': address,\n",
        "            'RT/RW': rt_rw,\n",
        "            'Kel/Desa': kelurahan,\n",
        "            'Agama': religion,\n",
        "            'Status Perkawinan': marital_status,\n",
        "            'Pekerjaan': occupation,\n",
        "            'Kewarganegaraan': nationality,\n",
        "            'Berlaku Hingga': valid_until,\n",
        "        }\n",
        "\n",
        "    def generate_nik(self):\n",
        "        \"\"\"Generate a dummy NIK (Indonesian identity number).\"\"\"\n",
        "        province_code = random.randint(10, 34)  # Random province code\n",
        "        regency_code = random.randint(1, 99)   # Random regency code\n",
        "        district_code = random.randint(1, 99) # Random district code\n",
        "        date_of_birth = self.faker.date_of_birth()\n",
        "        birth_date_part = date_of_birth.strftime('%d%m%y')  # Format DDMMYY\n",
        "        random_sequence = random.randint(1000, 9999)       # Random sequence number\n",
        "        return f\"{province_code:02}{regency_code:02}{district_code:02}{birth_date_part}{random_sequence:04}\"\n",
        "\n",
        "    def generate_multiple_ktps(self, count=1):\n",
        "        \"\"\"Generate multiple dummy KTP records.\"\"\"\n",
        "        return [self.generate_ktp() for _ in range(count)]\n",
        "\n",
        "    @staticmethod\n",
        "    def merge_ktp_data(ktp):\n",
        "        \"\"\"\n",
        "        Merge a single KTP dictionary into a formatted string with '#' as a separator.\n",
        "        Replace spaces with '%'.\n",
        "        \"\"\"\n",
        "        fields = [\n",
        "            ktp.get('NIK', ''),\n",
        "            ktp.get('Nama', ''),\n",
        "            ktp.get('Tempat/Tgl Lahir', ''),\n",
        "            ktp.get('Jenis Kelamin', ''),\n",
        "            ktp.get('Gol Darah', ''),\n",
        "            ktp.get('Alamat', ''),\n",
        "            ktp.get('RT/RW', ''),\n",
        "            ktp.get('Kel/Desa', ''),\n",
        "            ktp.get('Agama', ''),\n",
        "            ktp.get('Status Perkawinan', ''),\n",
        "            ktp.get('Pekerjaan', ''),\n",
        "            ktp.get('Kewarganegaraan', ''),\n",
        "            ktp.get('Berlaku Hingga', '')\n",
        "        ]\n",
        "        merged = '#'.join(fields)\n",
        "        return merged.replace(' ', '%')\n",
        "\n",
        "    @staticmethod\n",
        "    def merge_multiple_ktps(ktps):\n",
        "        \"\"\"\n",
        "        Merge multiple KTP dictionaries into formatted strings with '#' as a separator.\n",
        "        Replace spaces with '%'.\n",
        "        \"\"\"\n",
        "        return [DummyKTPGenerator.merge_ktp_data(ktp) for ktp in ktps]\n"
      ],
      "metadata": {
        "id": "HKvraoRREr2m"
      },
      "execution_count": 3,
      "outputs": []
    },
    {
      "cell_type": "code",
      "source": [
        "generator = DummyKTPGenerator()\n",
        "\n",
        "# Generate multiple dummy KTPs\n",
        "dummy_ktps = generator.generate_multiple_ktps(count=5)\n",
        "\n",
        "# Merge single KTP\n",
        "merged_ktp = generator.merge_ktp_data(dummy_ktps[0])\n",
        "print(\"Merged Single KTP:\", merged_ktp)\n",
        "\n",
        "# Merge multiple KTPs\n",
        "merged_ktps = generator.merge_multiple_ktps(dummy_ktps)\n",
        "print(\"Merged Multiple KTPs:\")\n",
        "for m_ktp in merged_ktps:\n",
        "    print(m_ktp)"
      ],
      "metadata": {
        "colab": {
          "base_uri": "https://localhost:8080/"
        },
        "id": "SB5ap_nREvy-",
        "outputId": "aaf4397b-6ffa-4d6c-9ea5-c790851ce7c0"
      },
      "execution_count": 4,
      "outputs": [
        {
          "output_type": "stream",
          "name": "stdout",
          "text": [
            "Merged Single KTP: 1350272107191648#Titi%Nababan,%S.Psi#Sungai%Penuh,%08-06-1941#Laki-Laki#AB#Gg.%Tebet%Barat%Dalam%No.%5,%Kota%Administrasi%Jakarta%Pusat,%JT%86632#1/16#Ville#Hindu#Cerai%Hidup#Petani#WNI#SEUMUR%HIDUP\n",
            "Merged Multiple KTPs:\n",
            "1350272107191648#Titi%Nababan,%S.Psi#Sungai%Penuh,%08-06-1941#Laki-Laki#AB#Gg.%Tebet%Barat%Dalam%No.%5,%Kota%Administrasi%Jakarta%Pusat,%JT%86632#1/16#Ville#Hindu#Cerai%Hidup#Petani#WNI#SEUMUR%HIDUP\n",
            "2738700902212271#Hasna%Nababan#Bandar%Lampung,%10-07-1928#Perempuan#A#Gg.%Merdeka%No.%33,%Denpasar,%Nusa%Tenggara%Timur%24590#5/6#Ville#Katolik#Cerai%Mati#Apoteker#WNI#SEUMUR%HIDUP\n",
            "3027323108148289#Mala%Wasita#Bogor,%30-12-2011#Perempuan#B#Gg.%Kebonjati%No.%78,%Tomohon,%Aceh%32981#13/17#Ville#Konghucu#Belum%Kawin#Pegawai%Negeri#WNI#SEUMUR%HIDUP\n",
            "3457421605828510#Najam%Thamrin,%M.TI.#Madiun,%16-11-1913#Perempuan#B#Gg.%Kebonjati%No.%158,%Salatiga,%KS%89501#5/2#Ville#Kristen#Cerai%Mati#Apoteker#WNI#SEUMUR%HIDUP\n",
            "3193751708134094#Tirtayasa%Wibowo#Dumai,%16-10-1940#Perempuan#AB#Gang%Joyoboyo%No.%721,%Bontang,%Bali%95107#8/14#Ville#Katolik#Cerai%Hidup#Apoteker#WNI#SEUMUR%HIDUP\n"
          ]
        }
      ]
    },
    {
      "cell_type": "code",
      "execution_count": 1,
      "metadata": {
        "colab": {
          "base_uri": "https://localhost:8080/"
        },
        "id": "oVdeF7pjCBUz",
        "outputId": "c1db5d3a-ab0a-4d25-903e-5aa7c44f0dbc"
      },
      "outputs": [
        {
          "output_type": "stream",
          "name": "stdout",
          "text": [
            "Original string: ABABABABABA\n",
            "Compressed data: [65, 66, 256, 258, 257, 257]\n",
            "Decompressed string: ABABABABABA\n"
          ]
        }
      ],
      "source": [
        "def lzw_compress(input_string):\n",
        "    # Initialize the dictionary with single characters\n",
        "    dictionary = {chr(i): i for i in range(256)}  # ASCII characters\n",
        "    next_code = 256  # Next available code for new strings\n",
        "    current_string = \"\"\n",
        "    compressed_data = []\n",
        "\n",
        "    # Iterate over each character in the input string\n",
        "    for char in input_string:\n",
        "        current_string_plus_char = current_string + char\n",
        "        if current_string_plus_char in dictionary:\n",
        "            current_string = current_string_plus_char  # Continue the string\n",
        "        else:\n",
        "            # Output the code for current_string\n",
        "            compressed_data.append(dictionary[current_string])\n",
        "            # Add new string to dictionary\n",
        "            dictionary[current_string_plus_char] = next_code\n",
        "            next_code += 1\n",
        "            # Start a new current_string\n",
        "            current_string = char\n",
        "\n",
        "    # Output the code for the last current_string\n",
        "    if current_string:\n",
        "        compressed_data.append(dictionary[current_string])\n",
        "\n",
        "    return compressed_data\n",
        "\n",
        "\n",
        "def lzw_decompress(compressed_data):\n",
        "    # Rebuild the dictionary with single characters\n",
        "    dictionary = {i: chr(i) for i in range(256)}  # ASCII characters\n",
        "    next_code = 256  # Next available code for new strings\n",
        "    current_code = compressed_data[0]\n",
        "    decompressed_string = dictionary[current_code]\n",
        "    current_string = decompressed_string\n",
        "\n",
        "    # Iterate over the compressed data\n",
        "    for code in compressed_data[1:]:\n",
        "        if code in dictionary:\n",
        "            entry = dictionary[code]\n",
        "        elif code == next_code:\n",
        "            entry = current_string + current_string[0]\n",
        "        decompressed_string += entry\n",
        "\n",
        "        # Add the new string to the dictionary\n",
        "        dictionary[next_code] = current_string + entry[0]\n",
        "        next_code += 1\n",
        "\n",
        "        # Update the current string\n",
        "        current_string = entry\n",
        "\n",
        "    return decompressed_string\n",
        "\n",
        "\n",
        "# Example Usage\n",
        "input_string = \"ABABABABABA\"\n",
        "print(f\"Original string: {input_string}\")\n",
        "\n",
        "compressed_data = lzw_compress(input_string)\n",
        "print(f\"Compressed data: {compressed_data}\")\n",
        "\n",
        "decompressed_string = lzw_decompress(compressed_data)\n",
        "print(f\"Decompressed string: {decompressed_string}\")\n"
      ]
    },
    {
      "cell_type": "markdown",
      "source": [],
      "metadata": {
        "id": "rQ6FI4C6H-Lp"
      }
    },
    {
      "cell_type": "code",
      "source": [
        "def lzw_compress(input_string):\n",
        "    # Initialize the dictionary with single characters\n",
        "    dictionary = {chr(i): i for i in range(256)}  # ASCII characters\n",
        "    next_code = 256  # Next available code for new strings\n",
        "    current_string = \"\"\n",
        "    compressed_data = []\n",
        "\n",
        "    # Iterate over each character in the input string\n",
        "    for char in input_string:\n",
        "        current_string_plus_char = current_string + char\n",
        "        if current_string_plus_char in dictionary:\n",
        "            current_string = current_string_plus_char  # Continue the string\n",
        "        else:\n",
        "            # Output the code for current_string\n",
        "            compressed_data.append(dictionary[current_string])\n",
        "            # Add new string to dictionary\n",
        "            dictionary[current_string_plus_char] = next_code\n",
        "            next_code += 1\n",
        "            # Start a new current_string\n",
        "            current_string = char\n",
        "\n",
        "    # Output the code for the last current_string\n",
        "    if current_string:\n",
        "        compressed_data.append(dictionary[current_string])\n",
        "\n",
        "    return compressed_data\n",
        "\n",
        "\n",
        "def lzw_decompress(compressed_data):\n",
        "    # Rebuild the dictionary with single characters\n",
        "    dictionary = {i: chr(i) for i in range(256)}  # ASCII characters\n",
        "    next_code = 256  # Next available code for new strings\n",
        "    current_code = compressed_data[0]\n",
        "    decompressed_string = dictionary[current_code]\n",
        "    current_string = decompressed_string\n",
        "\n",
        "    # Iterate over the compressed data\n",
        "    for code in compressed_data[1:]:\n",
        "        if code in dictionary:\n",
        "            entry = dictionary[code]\n",
        "        elif code == next_code:\n",
        "            entry = current_string + current_string[0]\n",
        "        decompressed_string += entry\n",
        "\n",
        "        # Add the new string to the dictionary\n",
        "        dictionary[next_code] = current_string + entry[0]\n",
        "        next_code += 1\n",
        "\n",
        "        # Update the current string\n",
        "        current_string = entry\n",
        "\n",
        "    return decompressed_string\n",
        "\n",
        "\n",
        "# Example Usage\n",
        "input_string = \"ABABABABABA\"\n",
        "print(f\"Original string: {input_string}\")\n",
        "\n",
        "compressed_data = lzw_compress(input_string)\n",
        "print(f\"Compressed data: {compressed_data}\")\n",
        "\n",
        "decompressed_string = lzw_decompress(compressed_data)\n",
        "print(f\"Decompressed string: {decompressed_string}\")\n"
      ],
      "metadata": {
        "colab": {
          "base_uri": "https://localhost:8080/"
        },
        "id": "9dsk5OEYHoa-",
        "outputId": "74f43d0f-37fa-4746-da39-1c1ab2e1500b"
      },
      "execution_count": 17,
      "outputs": [
        {
          "output_type": "stream",
          "name": "stdout",
          "text": [
            "Original string: ABABABABABA\n",
            "Compressed data: [65, 66, 256, 258, 257, 257]\n",
            "Decompressed string: ABABABABABA\n"
          ]
        }
      ]
    },
    {
      "cell_type": "code",
      "source": [
        "compressed_data"
      ],
      "metadata": {
        "colab": {
          "base_uri": "https://localhost:8080/"
        },
        "id": "y0jmGvuVH_v6",
        "outputId": "7f4ccd10-7d12-47fa-8170-049ffb595e7a"
      },
      "execution_count": 18,
      "outputs": [
        {
          "output_type": "execute_result",
          "data": {
            "text/plain": [
              "[65, 66, 256, 258, 257, 257]"
            ]
          },
          "metadata": {},
          "execution_count": 18
        }
      ]
    },
    {
      "cell_type": "code",
      "source": [
        "# Convert the integer 257 into a character\n",
        "char = chr(100000)\n",
        "integer_value = ord(char)\n",
        "print(f\"The integer value of '{char}' is: {integer_value}\")\n",
        "print(f\"The character for integer {integer_value} is: {char}\")"
      ],
      "metadata": {
        "colab": {
          "base_uri": "https://localhost:8080/"
        },
        "id": "lXPFDy9QIAfS",
        "outputId": "1d0f368e-d131-4e2c-fec0-07ff357f208f"
      },
      "execution_count": 26,
      "outputs": [
        {
          "output_type": "stream",
          "name": "stdout",
          "text": [
            "The integer value of '𘚠' is: 100000\n",
            "The character for integer 100000 is: 𘚠\n"
          ]
        }
      ]
    },
    {
      "cell_type": "code",
      "source": [
        "merged_ktps[0]"
      ],
      "metadata": {
        "colab": {
          "base_uri": "https://localhost:8080/",
          "height": 35
        },
        "id": "Ve3FznUUExO9",
        "outputId": "46bc1b83-6355-48f3-ed6e-58ba6882e8cf"
      },
      "execution_count": 5,
      "outputs": [
        {
          "output_type": "execute_result",
          "data": {
            "text/plain": [
              "'1350272107191648#Titi%Nababan,%S.Psi#Sungai%Penuh,%08-06-1941#Laki-Laki#AB#Gg.%Tebet%Barat%Dalam%No.%5,%Kota%Administrasi%Jakarta%Pusat,%JT%86632#1/16#Ville#Hindu#Cerai%Hidup#Petani#WNI#SEUMUR%HIDUP'"
            ],
            "application/vnd.google.colaboratory.intrinsic+json": {
              "type": "string"
            }
          },
          "metadata": {},
          "execution_count": 5
        }
      ]
    },
    {
      "cell_type": "code",
      "source": [
        "# Example Usage\n",
        "input_string = merged_ktps[0]\n",
        "print(f\"Original string: {input_string}\")\n",
        "\n",
        "compressed_data = lzw_compress(input_string)\n",
        "print(f\"Compressed data: {compressed_data}\")\n",
        "\n",
        "decompressed_string = lzw_decompress(compressed_data)\n",
        "print(f\"Decompressed string: {decompressed_string}\")\n",
        "\n",
        "assert input_string == decompressed_string"
      ],
      "metadata": {
        "colab": {
          "base_uri": "https://localhost:8080/"
        },
        "id": "hefQPYjtFAR8",
        "outputId": "0ac7fd1e-d19a-49bb-bfa0-8dc2d4601185"
      },
      "execution_count": 6,
      "outputs": [
        {
          "output_type": "stream",
          "name": "stdout",
          "text": [
            "Original string: 1350272107191648#Titi%Nababan,%S.Psi#Sungai%Penuh,%08-06-1941#Laki-Laki#AB#Gg.%Tebet%Barat%Dalam%No.%5,%Kota%Administrasi%Jakarta%Pusat,%JT%86632#1/16#Ville#Hindu#Cerai%Hidup#Petani#WNI#SEUMUR%HIDUP\n",
            "Compressed data: [49, 51, 53, 48, 50, 55, 50, 49, 48, 55, 49, 57, 49, 54, 52, 56, 35, 84, 105, 116, 105, 37, 78, 97, 98, 279, 97, 110, 44, 37, 83, 46, 80, 115, 105, 35, 83, 117, 110, 103, 97, 276, 80, 101, 110, 117, 104, 284, 48, 56, 45, 48, 54, 45, 266, 52, 49, 35, 76, 97, 107, 105, 45, 314, 316, 35, 65, 66, 35, 71, 103, 46, 37, 84, 101, 98, 101, 116, 37, 66, 97, 114, 97, 333, 68, 97, 108, 97, 109, 277, 111, 327, 53, 284, 75, 111, 116, 97, 37, 65, 100, 109, 105, 110, 105, 115, 116, 337, 289, 37, 74, 315, 336, 352, 37, 80, 117, 115, 338, 284, 74, 84, 37, 56, 54, 54, 51, 50, 35, 49, 47, 268, 35, 86, 105, 108, 108, 101, 35, 72, 358, 100, 117, 35, 67, 101, 337, 276, 395, 397, 112, 35, 298, 352, 359, 35, 87, 78, 73, 291, 69, 85, 77, 85, 82, 37, 72, 73, 68, 85, 80]\n",
            "Decompressed string: 1350272107191648#Titi%Nababan,%S.Psi#Sungai%Penuh,%08-06-1941#Laki-Laki#AB#Gg.%Tebet%Barat%Dalam%No.%5,%Kota%Administrasi%Jakarta%Pusat,%JT%86632#1/16#Ville#Hindu#Cerai%Hidup#Petani#WNI#SEUMUR%HIDUP\n"
          ]
        }
      ]
    },
    {
      "cell_type": "code",
      "source": [
        "def string_to_bits(message):\n",
        "    # Convert each character in the string to its binary representation (8 bits)\n",
        "    bits = ''.join(format(ord(c), '08b') for c in message)\n",
        "    return bits\n",
        "\n",
        "def message_length_in_bits(message):\n",
        "    bits = string_to_bits(message)\n",
        "    return len(bits)\n",
        "\n",
        "# Example usage\n",
        "message = \"Hello, world!\"\n",
        "bits = string_to_bits(message)\n",
        "length_in_bits = message_length_in_bits(message)\n",
        "\n",
        "print(f\"Message: {message}\")\n",
        "print(f\"Bits: {bits}\")\n",
        "print(f\"Length in bits: {length_in_bits}\")\n"
      ],
      "metadata": {
        "colab": {
          "base_uri": "https://localhost:8080/"
        },
        "id": "Rnv_XqnhGVRZ",
        "outputId": "fcaebd11-8503-4672-f61c-2cb502ee2cb2"
      },
      "execution_count": 7,
      "outputs": [
        {
          "output_type": "stream",
          "name": "stdout",
          "text": [
            "Message: Hello, world!\n",
            "Bits: 01001000011001010110110001101100011011110010110000100000011101110110111101110010011011000110010000100001\n",
            "Length in bits: 104\n"
          ]
        }
      ]
    },
    {
      "cell_type": "code",
      "source": [
        "# Example Usage\n",
        "input_string = merged_ktps[0]\n",
        "print(f\"Original string: {input_string}\")\n",
        "\n",
        "compressed_data = lzw_compress(input_string)\n",
        "print(f\"Compressed data: {compressed_data}\")\n",
        "\n",
        "decompressed_string = lzw_decompress(compressed_data)\n",
        "print(f\"Decompressed string: {decompressed_string}\")\n",
        "\n",
        "assert input_string == decompressed_string"
      ],
      "metadata": {
        "colab": {
          "base_uri": "https://localhost:8080/"
        },
        "id": "eLKeKEc3GYgg",
        "outputId": "41a118bb-495b-47b8-ac3a-b4e51903c745"
      },
      "execution_count": 8,
      "outputs": [
        {
          "output_type": "stream",
          "name": "stdout",
          "text": [
            "Original string: 1350272107191648#Titi%Nababan,%S.Psi#Sungai%Penuh,%08-06-1941#Laki-Laki#AB#Gg.%Tebet%Barat%Dalam%No.%5,%Kota%Administrasi%Jakarta%Pusat,%JT%86632#1/16#Ville#Hindu#Cerai%Hidup#Petani#WNI#SEUMUR%HIDUP\n",
            "Compressed data: [49, 51, 53, 48, 50, 55, 50, 49, 48, 55, 49, 57, 49, 54, 52, 56, 35, 84, 105, 116, 105, 37, 78, 97, 98, 279, 97, 110, 44, 37, 83, 46, 80, 115, 105, 35, 83, 117, 110, 103, 97, 276, 80, 101, 110, 117, 104, 284, 48, 56, 45, 48, 54, 45, 266, 52, 49, 35, 76, 97, 107, 105, 45, 314, 316, 35, 65, 66, 35, 71, 103, 46, 37, 84, 101, 98, 101, 116, 37, 66, 97, 114, 97, 333, 68, 97, 108, 97, 109, 277, 111, 327, 53, 284, 75, 111, 116, 97, 37, 65, 100, 109, 105, 110, 105, 115, 116, 337, 289, 37, 74, 315, 336, 352, 37, 80, 117, 115, 338, 284, 74, 84, 37, 56, 54, 54, 51, 50, 35, 49, 47, 268, 35, 86, 105, 108, 108, 101, 35, 72, 358, 100, 117, 35, 67, 101, 337, 276, 395, 397, 112, 35, 298, 352, 359, 35, 87, 78, 73, 291, 69, 85, 77, 85, 82, 37, 72, 73, 68, 85, 80]\n",
            "Decompressed string: 1350272107191648#Titi%Nababan,%S.Psi#Sungai%Penuh,%08-06-1941#Laki-Laki#AB#Gg.%Tebet%Barat%Dalam%No.%5,%Kota%Administrasi%Jakarta%Pusat,%JT%86632#1/16#Ville#Hindu#Cerai%Hidup#Petani#WNI#SEUMUR%HIDUP\n"
          ]
        }
      ]
    },
    {
      "cell_type": "code",
      "source": [
        "message = merged_ktps[0]\n",
        "bits = string_to_bits(message)\n",
        "length_in_bits = message_length_in_bits(message)\n",
        "\n",
        "print(f\"Message: {message}\")\n",
        "print(f\"Bits: {bits}\")\n",
        "print(f\"Length in bits: {length_in_bits}\")"
      ],
      "metadata": {
        "colab": {
          "base_uri": "https://localhost:8080/"
        },
        "id": "-EUbnJCgGZ8g",
        "outputId": "c52d51b1-948c-4bfe-e3c7-bdde8dd6e437"
      },
      "execution_count": 9,
      "outputs": [
        {
          "output_type": "stream",
          "name": "stdout",
          "text": [
            "Message: 1350272107191648#Titi%Nababan,%S.Psi#Sungai%Penuh,%08-06-1941#Laki-Laki#AB#Gg.%Tebet%Barat%Dalam%No.%5,%Kota%Administrasi%Jakarta%Pusat,%JT%86632#1/16#Ville#Hindu#Cerai%Hidup#Petani#WNI#SEUMUR%HIDUP\n",
            "Bits: 001100010011001100110101001100000011001000110111001100100011000100110000001101110011000100111001001100010011011000110100001110000010001101010100011010010111010001101001001001010100111001100001011000100110000101100010011000010110111000101100001001010101001100101110010100000111001101101001001000110101001101110101011011100110011101100001011010010010010101010000011001010110111001110101011010000010110000100101001100000011100000101101001100000011011000101101001100010011100100110100001100010010001101001100011000010110101101101001001011010100110001100001011010110110100100100011010000010100001000100011010001110110011100101110001001010101010001100101011000100110010101110100001001010100001001100001011100100110000101110100001001010100010001100001011011000110000101101101001001010100111001101111001011100010010100110101001011000010010101001011011011110111010001100001001001010100000101100100011011010110100101101110011010010111001101110100011100100110000101110011011010010010010101001010011000010110101101100001011100100111010001100001001001010101000001110101011100110110000101110100001011000010010101001010010101000010010100111000001101100011011000110011001100100010001100110001001011110011000100110110001000110101011001101001011011000110110001100101001000110100100001101001011011100110010001110101001000110100001101100101011100100110000101101001001001010100100001101001011001000111010101110000001000110101000001100101011101000110000101101110011010010010001101010111010011100100100100100011010100110100010101010101010011010101010101010010001001010100100001001001010001000101010101010000\n",
            "Length in bits: 1584\n"
          ]
        }
      ]
    },
    {
      "cell_type": "code",
      "source": [],
      "metadata": {
        "id": "ZbdZnH7fGfJZ"
      },
      "execution_count": null,
      "outputs": []
    }
  ]
}