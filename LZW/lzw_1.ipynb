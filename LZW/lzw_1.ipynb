{
  "nbformat": 4,
  "nbformat_minor": 0,
  "metadata": {
    "colab": {
      "provenance": [],
      "toc_visible": true,
      "authorship_tag": "ABX9TyNDUg42i9bZNyczntwtKJFY",
      "include_colab_link": true
    },
    "kernelspec": {
      "name": "python3",
      "display_name": "Python 3"
    },
    "language_info": {
      "name": "python"
    }
  },
  "cells": [
    {
      "cell_type": "markdown",
      "metadata": {
        "id": "view-in-github",
        "colab_type": "text"
      },
      "source": [
        "<a href=\"https://colab.research.google.com/github/Anjasfedo/eceg-lsb-lzw-huffman/blob/main/LZW/lzw_1.ipynb\" target=\"_parent\"><img src=\"https://colab.research.google.com/assets/colab-badge.svg\" alt=\"Open In Colab\"/></a>"
      ]
    },
    {
      "cell_type": "markdown",
      "source": [
        "# KTP Faker"
      ],
      "metadata": {
        "id": "ldB92hIVEo2-"
      }
    },
    {
      "cell_type": "code",
      "source": [
        "!pip install faker"
      ],
      "metadata": {
        "colab": {
          "base_uri": "https://localhost:8080/"
        },
        "id": "scQEc-m7Edco",
        "outputId": "24bf6a1b-5177-4d15-ad7e-26606f501f44"
      },
      "execution_count": 2,
      "outputs": [
        {
          "output_type": "stream",
          "name": "stdout",
          "text": [
            "Collecting faker\n",
            "  Downloading Faker-33.1.0-py3-none-any.whl.metadata (15 kB)\n",
            "Requirement already satisfied: python-dateutil>=2.4 in /usr/local/lib/python3.10/dist-packages (from faker) (2.8.2)\n",
            "Requirement already satisfied: typing-extensions in /usr/local/lib/python3.10/dist-packages (from faker) (4.12.2)\n",
            "Requirement already satisfied: six>=1.5 in /usr/local/lib/python3.10/dist-packages (from python-dateutil>=2.4->faker) (1.17.0)\n",
            "Downloading Faker-33.1.0-py3-none-any.whl (1.9 MB)\n",
            "\u001b[2K   \u001b[90m━━━━━━━━━━━━━━━━━━━━━━━━━━━━━━━━━━━━━━━━\u001b[0m \u001b[32m1.9/1.9 MB\u001b[0m \u001b[31m19.2 MB/s\u001b[0m eta \u001b[36m0:00:00\u001b[0m\n",
            "\u001b[?25hInstalling collected packages: faker\n",
            "Successfully installed faker-33.1.0\n"
          ]
        }
      ]
    },
    {
      "cell_type": "code",
      "source": [
        "from faker import Faker\n",
        "import random\n",
        "\n",
        "class DummyKTPGenerator:\n",
        "    def __init__(self):\n",
        "        self.faker = Faker('id_ID')  # Use Indonesian locale\n",
        "        self.indonesian_jobs = [\n",
        "            \"Guru\", \"Dokter\", \"Petani\", \"Nelayan\", \"Pegawai Negeri\", \"Karyawan Swasta\",\n",
        "            \"Wiraswasta\", \"Mahasiswa\", \"Pelajar\", \"Pengacara\", \"Arsitek\", \"Insinyur\",\n",
        "            \"Pedagang\", \"Polisi\", \"Tentara\", \"Seniman\", \"Penulis\", \"Pilot\", \"Supir\",\n",
        "            \"Teknisi\", \"Pemadam Kebakaran\", \"Apoteker\"\n",
        "        ]\n",
        "\n",
        "    def generate_ktp(self):\n",
        "        \"\"\"Generate a single dummy KTP record.\"\"\"\n",
        "        nik = self.generate_nik()\n",
        "        name = self.faker.name()\n",
        "        birth_place = self.faker.city()\n",
        "        birth_date = self.faker.date_of_birth().strftime('%d-%m-%Y')\n",
        "        gender = random.choice(['Laki-Laki', 'Perempuan'])\n",
        "        blood_type = random.choice(['A', 'B', 'AB', 'O'])\n",
        "        address = self.faker.address().replace('\\n', ', ')\n",
        "        rt_rw = f\"{random.randint(1, 20)}/{random.randint(1, 20)}\"\n",
        "        kelurahan = self.faker.city_suffix()\n",
        "        religion = random.choice(['Islam', 'Kristen', 'Katolik', 'Hindu', 'Buddha', 'Konghucu'])\n",
        "        marital_status = random.choice(['Belum Kawin', 'Kawin', 'Cerai Hidup', 'Cerai Mati'])\n",
        "        occupation = random.choice(self.indonesian_jobs)  # Select random Indonesian job\n",
        "        nationality = 'WNI'  # Assuming all generated data is Indonesian\n",
        "        valid_until = 'SEUMUR HIDUP'\n",
        "\n",
        "        return {\n",
        "            'NIK': nik,\n",
        "            'Nama': name,\n",
        "            'Tempat/Tgl Lahir': f\"{birth_place}, {birth_date}\",\n",
        "            'Jenis Kelamin': gender,\n",
        "            'Gol Darah': blood_type,\n",
        "            'Alamat': address,\n",
        "            'RT/RW': rt_rw,\n",
        "            'Kel/Desa': kelurahan,\n",
        "            'Agama': religion,\n",
        "            'Status Perkawinan': marital_status,\n",
        "            'Pekerjaan': occupation,\n",
        "            'Kewarganegaraan': nationality,\n",
        "            'Berlaku Hingga': valid_until,\n",
        "        }\n",
        "\n",
        "    def generate_nik(self):\n",
        "        \"\"\"Generate a dummy NIK (Indonesian identity number).\"\"\"\n",
        "        province_code = random.randint(10, 34)  # Random province code\n",
        "        regency_code = random.randint(1, 99)   # Random regency code\n",
        "        district_code = random.randint(1, 99) # Random district code\n",
        "        date_of_birth = self.faker.date_of_birth()\n",
        "        birth_date_part = date_of_birth.strftime('%d%m%y')  # Format DDMMYY\n",
        "        random_sequence = random.randint(1000, 9999)       # Random sequence number\n",
        "        return f\"{province_code:02}{regency_code:02}{district_code:02}{birth_date_part}{random_sequence:04}\"\n",
        "\n",
        "    def generate_multiple_ktps(self, count=1):\n",
        "        \"\"\"Generate multiple dummy KTP records.\"\"\"\n",
        "        return [self.generate_ktp() for _ in range(count)]\n",
        "\n",
        "    @staticmethod\n",
        "    def merge_ktp_data(ktp):\n",
        "        \"\"\"\n",
        "        Merge a single KTP dictionary into a formatted string with '#' as a separator.\n",
        "        Replace spaces with '%'.\n",
        "        \"\"\"\n",
        "        fields = [\n",
        "            ktp.get('NIK', ''),\n",
        "            ktp.get('Nama', ''),\n",
        "            ktp.get('Tempat/Tgl Lahir', ''),\n",
        "            ktp.get('Jenis Kelamin', ''),\n",
        "            ktp.get('Gol Darah', ''),\n",
        "            ktp.get('Alamat', ''),\n",
        "            ktp.get('RT/RW', ''),\n",
        "            ktp.get('Kel/Desa', ''),\n",
        "            ktp.get('Agama', ''),\n",
        "            ktp.get('Status Perkawinan', ''),\n",
        "            ktp.get('Pekerjaan', ''),\n",
        "            ktp.get('Kewarganegaraan', ''),\n",
        "            ktp.get('Berlaku Hingga', '')\n",
        "        ]\n",
        "        merged = '#'.join(fields)\n",
        "        return merged.replace(' ', '%')\n",
        "\n",
        "    @staticmethod\n",
        "    def merge_multiple_ktps(ktps):\n",
        "        \"\"\"\n",
        "        Merge multiple KTP dictionaries into formatted strings with '#' as a separator.\n",
        "        Replace spaces with '%'.\n",
        "        \"\"\"\n",
        "        return [DummyKTPGenerator.merge_ktp_data(ktp) for ktp in ktps]\n"
      ],
      "metadata": {
        "id": "HKvraoRREr2m"
      },
      "execution_count": 3,
      "outputs": []
    },
    {
      "cell_type": "code",
      "source": [
        "generator = DummyKTPGenerator()\n",
        "\n",
        "# Generate multiple dummy KTPs\n",
        "dummy_ktps = generator.generate_multiple_ktps(count=5)\n",
        "\n",
        "# Merge single KTP\n",
        "merged_ktp = generator.merge_ktp_data(dummy_ktps[0])\n",
        "print(\"Merged Single KTP:\", merged_ktp)\n",
        "\n",
        "# Merge multiple KTPs\n",
        "merged_ktps = generator.merge_multiple_ktps(dummy_ktps)\n",
        "print(\"Merged Multiple KTPs:\")\n",
        "for m_ktp in merged_ktps:\n",
        "    print(m_ktp)"
      ],
      "metadata": {
        "colab": {
          "base_uri": "https://localhost:8080/"
        },
        "id": "SB5ap_nREvy-",
        "outputId": "aaf4397b-6ffa-4d6c-9ea5-c790851ce7c0"
      },
      "execution_count": 4,
      "outputs": [
        {
          "output_type": "stream",
          "name": "stdout",
          "text": [
            "Merged Single KTP: 1350272107191648#Titi%Nababan,%S.Psi#Sungai%Penuh,%08-06-1941#Laki-Laki#AB#Gg.%Tebet%Barat%Dalam%No.%5,%Kota%Administrasi%Jakarta%Pusat,%JT%86632#1/16#Ville#Hindu#Cerai%Hidup#Petani#WNI#SEUMUR%HIDUP\n",
            "Merged Multiple KTPs:\n",
            "1350272107191648#Titi%Nababan,%S.Psi#Sungai%Penuh,%08-06-1941#Laki-Laki#AB#Gg.%Tebet%Barat%Dalam%No.%5,%Kota%Administrasi%Jakarta%Pusat,%JT%86632#1/16#Ville#Hindu#Cerai%Hidup#Petani#WNI#SEUMUR%HIDUP\n",
            "2738700902212271#Hasna%Nababan#Bandar%Lampung,%10-07-1928#Perempuan#A#Gg.%Merdeka%No.%33,%Denpasar,%Nusa%Tenggara%Timur%24590#5/6#Ville#Katolik#Cerai%Mati#Apoteker#WNI#SEUMUR%HIDUP\n",
            "3027323108148289#Mala%Wasita#Bogor,%30-12-2011#Perempuan#B#Gg.%Kebonjati%No.%78,%Tomohon,%Aceh%32981#13/17#Ville#Konghucu#Belum%Kawin#Pegawai%Negeri#WNI#SEUMUR%HIDUP\n",
            "3457421605828510#Najam%Thamrin,%M.TI.#Madiun,%16-11-1913#Perempuan#B#Gg.%Kebonjati%No.%158,%Salatiga,%KS%89501#5/2#Ville#Kristen#Cerai%Mati#Apoteker#WNI#SEUMUR%HIDUP\n",
            "3193751708134094#Tirtayasa%Wibowo#Dumai,%16-10-1940#Perempuan#AB#Gang%Joyoboyo%No.%721,%Bontang,%Bali%95107#8/14#Ville#Katolik#Cerai%Hidup#Apoteker#WNI#SEUMUR%HIDUP\n"
          ]
        }
      ]
    },
    {
      "cell_type": "markdown",
      "source": [
        "# LZW"
      ],
      "metadata": {
        "id": "aHKEyxUQQRvR"
      }
    },
    {
      "cell_type": "code",
      "source": [
        "class LZW:\n",
        "    def __init__(self):\n",
        "        # Initialize the dictionary size and next code index\n",
        "        self.dictionary_size = 256\n",
        "\n",
        "    def compress(self, input_string):\n",
        "        if input_string == \"\":\n",
        "              return \"\"\n",
        "        \"\"\"Compress the input string using the LZW algorithm.\"\"\"\n",
        "        # Initialize the dictionary for compression\n",
        "        dictionary = {chr(i): i for i in range(self.dictionary_size)}  # ASCII characters\n",
        "        next_code = self.dictionary_size  # Start assigning new codes from 256\n",
        "\n",
        "        current_string = \"\"\n",
        "        compressed_data = []\n",
        "\n",
        "        # Iterate over each character in the input string\n",
        "        for char in input_string:\n",
        "            current_string_plus_char = current_string + char\n",
        "            if current_string_plus_char in dictionary:\n",
        "                current_string = current_string_plus_char  # Continue the string\n",
        "            else:\n",
        "                # Output the code for current_string\n",
        "                compressed_data.append(dictionary[current_string])\n",
        "                # Add new string to dictionary\n",
        "                dictionary[current_string_plus_char] = next_code\n",
        "                next_code += 1\n",
        "                # Start a new current_string\n",
        "                current_string = char\n",
        "\n",
        "        # Output the code for the last current_string\n",
        "        if current_string:\n",
        "            compressed_data.append(dictionary[current_string])\n",
        "\n",
        "        # Convert the compressed data to a string (encoded as characters)\n",
        "        return \"\".join([chr(num) for num in compressed_data])\n",
        "\n",
        "    def decompress(self, compressed_data):\n",
        "        if compressed_data == \"\":\n",
        "              return \"\"\n",
        "        \"\"\"Decompress the LZW compressed data.\"\"\"\n",
        "        # Convert the compressed data (string of characters) to a list of integers (ASCII codes)\n",
        "        compressed_data = [ord(char) for char in compressed_data]\n",
        "\n",
        "        # Initialize the dictionary for decompression\n",
        "        dictionary = {i: chr(i) for i in range(self.dictionary_size)}  # ASCII characters\n",
        "        next_code = self.dictionary_size  # Start assigning new codes from 256\n",
        "\n",
        "        current_code = compressed_data[0]\n",
        "        decompressed_string = dictionary[current_code]\n",
        "        current_string = decompressed_string\n",
        "\n",
        "        # Iterate over the compressed data\n",
        "        for code in compressed_data[1:]:\n",
        "            if code in dictionary:\n",
        "                entry = dictionary[code]\n",
        "            elif code == next_code:\n",
        "                entry = current_string + current_string[0]\n",
        "            decompressed_string += entry\n",
        "\n",
        "            # Add the new string to the dictionary\n",
        "            dictionary[next_code] = current_string + entry[0]\n",
        "            next_code += 1\n",
        "\n",
        "            # Update the current string\n",
        "            current_string = entry\n",
        "\n",
        "        return decompressed_string\n",
        "\n",
        "    def get_compression_ratio(self, input_string, compressed_data):\n",
        "        \"\"\"Calculate the compression ratio using the formula:\n",
        "           ((original_bits - compressed_bits) / original_bits) * 100\n",
        "        \"\"\"\n",
        "        # Get the length of the input message in bits (original data)\n",
        "        original_bits = self.message_length_in_bits(input_string)\n",
        "\n",
        "        # Get the length of the compressed data in bits\n",
        "        compressed_bits = self.message_length_in_bits(compressed_data)\n",
        "\n",
        "        # Calculate the compression ratio using the revised formula\n",
        "        if original_bits > 0:\n",
        "            ratio = ((original_bits - compressed_bits) / original_bits) * 100\n",
        "        else:\n",
        "            ratio = 0\n",
        "\n",
        "        return ratio\n",
        "\n",
        "    def message_in_bits(self, message):\n",
        "        return ''.join(format(ord(c), '08b') for c in message)\n",
        "\n",
        "    def message_length_in_bits(self, message):\n",
        "        \"\"\"Convert message to bits and return its length.\"\"\"\n",
        "        # Convert each character in the string to its binary representation (8 bits)\n",
        "        bits = ''.join(format(ord(c), '08b') for c in message)\n",
        "        return len(bits)"
      ],
      "metadata": {
        "id": "J5p3qbTHQezZ"
      },
      "execution_count": 141,
      "outputs": []
    },
    {
      "cell_type": "code",
      "source": [
        "# Example Usage\n",
        "input_string = \"ABABABABABA\"\n",
        "print(f\"Original string: {input_string}\")\n",
        "\n",
        "# Create LZW object\n",
        "lzw = LZW()\n",
        "\n",
        "# Compress the string\n",
        "compressed_data = lzw.compress(input_string)\n",
        "print(f\"Compressed data (as string): {compressed_data}\")\n",
        "\n",
        "# Decompress the string\n",
        "decompressed_string = lzw.decompress(compressed_data)\n",
        "print(f\"Decompressed string: {decompressed_string}\")\n",
        "\n",
        "assert input_string == decompressed_string\n",
        "\n",
        "# Get the bit length of the compressed data\n",
        "bit_length_message = lzw.message_length_in_bits(input_string)\n",
        "print(f\"Compressed data bit length: {bit_length_message}\")\n",
        "\n",
        "# Get the bit length of the compressed data\n",
        "bit_length_compressed = lzw.message_length_in_bits(compressed_data)\n",
        "print(f\"Compressed data bit length: {bit_length_compressed}\")\n",
        "\n",
        "# Get the compression ratio\n",
        "compression_ratio = lzw.get_compression_ratio(input_string, compressed_data)\n",
        "print(f\"Compression ratio: {compression_ratio:.2f}%\")"
      ],
      "metadata": {
        "colab": {
          "base_uri": "https://localhost:8080/"
        },
        "id": "Al0x7e5nQ5Tt",
        "outputId": "75ddf1df-675b-41db-9e08-fd417ab649b0"
      },
      "execution_count": 142,
      "outputs": [
        {
          "output_type": "stream",
          "name": "stdout",
          "text": [
            "Original string: ABABABABABA\n",
            "Compressed data (as string): ABĀĂāā\n",
            "Decompressed string: ABABABABABA\n",
            "Compressed data bit length: 88\n",
            "Compressed data bit length: 52\n",
            "Compression ratio: 40.91%\n"
          ]
        }
      ]
    },
    {
      "cell_type": "code",
      "source": [
        "lzw.message_in_bits(input_string)"
      ],
      "metadata": {
        "colab": {
          "base_uri": "https://localhost:8080/",
          "height": 35
        },
        "id": "nnbRxxfsVMye",
        "outputId": "8b157aa0-0830-4b4d-d452-39eb57313d8b"
      },
      "execution_count": 132,
      "outputs": [
        {
          "output_type": "execute_result",
          "data": {
            "text/plain": [
              "'0100000101000010010000010100001001000001010000100100000101000010010000010100001001000001'"
            ],
            "application/vnd.google.colaboratory.intrinsic+json": {
              "type": "string"
            }
          },
          "metadata": {},
          "execution_count": 132
        }
      ]
    },
    {
      "cell_type": "code",
      "source": [
        "lzw.message_in_bits(compressed_data)"
      ],
      "metadata": {
        "colab": {
          "base_uri": "https://localhost:8080/",
          "height": 35
        },
        "id": "NWEbi35iU9_v",
        "outputId": "56a6866c-ae05-47c8-b66c-ff36cfaac03b"
      },
      "execution_count": 134,
      "outputs": [
        {
          "output_type": "execute_result",
          "data": {
            "text/plain": [
              "'0100000101000010100000000100000010100000001100000001'"
            ],
            "application/vnd.google.colaboratory.intrinsic+json": {
              "type": "string"
            }
          },
          "metadata": {},
          "execution_count": 134
        }
      ]
    },
    {
      "cell_type": "markdown",
      "source": [
        "# LZW Test"
      ],
      "metadata": {
        "id": "ZyTasymoVWZv"
      }
    },
    {
      "cell_type": "code",
      "source": [
        "import unittest\n",
        "\n",
        "class TestLZWCompression(unittest.TestCase):\n",
        "\n",
        "    def setUp(self):\n",
        "        \"\"\"Set up the LZW object before each test.\"\"\"\n",
        "        self.lzw = LZW()\n",
        "\n",
        "    def test_compress_decompress(self):\n",
        "        \"\"\"Test that compression and decompression works correctly.\"\"\"\n",
        "        input_string = \"ABABABABABA\"\n",
        "        compressed_data = self.lzw.compress(input_string)\n",
        "        decompressed_string = self.lzw.decompress(compressed_data)\n",
        "\n",
        "        self.assertEqual(decompressed_string, input_string, \"Decompressed string does not match the original\")\n",
        "        print(f\"test_compress_decompress passed | Compressed Data: {compressed_data} | Decompressed Data: {decompressed_string}\")\n",
        "\n",
        "    def test_compression_ratio(self):\n",
        "        \"\"\"Test the compression ratio calculation.\"\"\"\n",
        "        input_string = \"ABABABABABA\"\n",
        "        compressed_data = self.lzw.compress(input_string)\n",
        "\n",
        "        # Compute the compression ratio\n",
        "        ratio = self.lzw.get_compression_ratio(input_string, compressed_data)\n",
        "\n",
        "        # Check that the ratio is a valid percentage\n",
        "        self.assertGreaterEqual(ratio, 0, \"Compression ratio should be >= 0\")\n",
        "        self.assertLessEqual(ratio, 100, \"Compression ratio should be <= 100\")\n",
        "        print(f\"test_compression_ratio passed | Compression Ratio: {ratio}%\")\n",
        "\n",
        "    def test_single_character_string(self):\n",
        "        \"\"\"Test compression and decompression of a string with only one character repeated.\"\"\"\n",
        "        input_string = \"AAAAA\"\n",
        "        compressed_data = self.lzw.compress(input_string)\n",
        "        decompressed_string = self.lzw.decompress(compressed_data)\n",
        "\n",
        "        self.assertEqual(decompressed_string, input_string, \"Decompressed string for single-character input does not match the original\")\n",
        "        print(f\"test_single_character_string passed | Compressed Data: {compressed_data} | Decompressed Data: {decompressed_string}\")\n",
        "\n",
        "    def test_empty_string(self):\n",
        "        \"\"\"Test compression and decompression of an empty string.\"\"\"\n",
        "        input_string = \"\"\n",
        "        compressed_data = self.lzw.compress(input_string)\n",
        "        decompressed_string = self.lzw.decompress(compressed_data)\n",
        "\n",
        "        self.assertEqual(decompressed_string, input_string, \"Decompressed string for empty input does not match the original\")\n",
        "        print(f\"test_empty_string passed | Compressed Data: {compressed_data} | Decompressed Data: {decompressed_string}\")\n",
        "\n",
        "    def test_large_input(self):\n",
        "        \"\"\"Test compression and decompression on a large input string.\"\"\"\n",
        "        input_string = \"A\" * 1000  # Large string of repeating 'A's\n",
        "        compressed_data = self.lzw.compress(input_string)\n",
        "        decompressed_string = self.lzw.decompress(compressed_data)\n",
        "\n",
        "        self.assertEqual(decompressed_string, input_string, \"Decompressed string for large input does not match the original\")\n",
        "        print(f\"test_large_input passed | Compressed Data: {compressed_data[:100]}... (truncated) | Decompressed Data: {decompressed_string[:100]}... (truncated)\")\n",
        "\n",
        "    def test_compression_ratio_with_large_input(self):\n",
        "        \"\"\"Test compression ratio on a large input string.\"\"\"\n",
        "        input_string = \"A\" * 1000\n",
        "        compressed_data = self.lzw.compress(input_string)\n",
        "\n",
        "        # Compute the compression ratio\n",
        "        ratio = self.lzw.get_compression_ratio(input_string, compressed_data)\n",
        "\n",
        "        # Check if the compression ratio makes sense for the input size\n",
        "        self.assertGreater(ratio, 0, \"Compression ratio should be greater than 0 for non-empty strings\")\n",
        "        self.assertLess(ratio, 100, \"Compression ratio should be less than 100 for large inputs\")\n",
        "        print(f\"test_compression_ratio_with_large_input passed | Compression Ratio: {ratio}%\")\n",
        "\n",
        "    def test_compression_edge_case(self):\n",
        "        \"\"\"Test compression and decompression on an edge case string.\"\"\"\n",
        "        input_string = \"ABCABCABCABCABC\"  # Patterned string\n",
        "        compressed_data = self.lzw.compress(input_string)\n",
        "        decompressed_string = self.lzw.decompress(compressed_data)\n",
        "\n",
        "        self.assertEqual(decompressed_string, input_string, \"Decompressed string for edge case input does not match the original\")\n",
        "        print(f\"test_compression_edge_case passed | Compressed Data: {compressed_data} | Decompressed Data: {decompressed_string}\")\n",
        "\n",
        "    def test_non_ascii_characters(self):\n",
        "        \"\"\"Test handling of non-ASCII characters.\"\"\"\n",
        "        input_string = \"áéíóú\"\n",
        "        compressed_data = self.lzw.compress(input_string)\n",
        "        decompressed_string = self.lzw.decompress(compressed_data)\n",
        "\n",
        "        self.assertEqual(decompressed_string, input_string, \"Decompressed string for non-ASCII input does not match the original\")\n",
        "        print(f\"test_non_ascii_characters passed | Compressed Data: {compressed_data} | Decompressed Data: {decompressed_string}\")\n",
        "\n",
        "unittest.main(argv=[''], verbosity=2, exit=False)\n"
      ],
      "metadata": {
        "colab": {
          "base_uri": "https://localhost:8080/"
        },
        "id": "skH-ef5zV1kf",
        "outputId": "64d8fed9-2567-46ac-8944-65db29023a70"
      },
      "execution_count": 144,
      "outputs": [
        {
          "output_type": "stream",
          "name": "stderr",
          "text": [
            "test_compress_decompress (__main__.TestLZWCompression)\n",
            "Test that compression and decompression works correctly. ... ok\n",
            "test_compression_edge_case (__main__.TestLZWCompression)\n",
            "Test compression and decompression on an edge case string. ... ok\n",
            "test_compression_ratio (__main__.TestLZWCompression)\n",
            "Test the compression ratio calculation. ... ok\n",
            "test_compression_ratio_with_large_input (__main__.TestLZWCompression)\n",
            "Test compression ratio on a large input string. ... ok\n",
            "test_empty_string (__main__.TestLZWCompression)\n",
            "Test compression and decompression of an empty string. ... ok\n",
            "test_large_input (__main__.TestLZWCompression)\n",
            "Test compression and decompression on a large input string. ... ok\n",
            "test_non_ascii_characters (__main__.TestLZWCompression)\n",
            "Test handling of non-ASCII characters. ... ok\n",
            "test_single_character_string (__main__.TestLZWCompression)\n",
            "Test compression and decompression of a string with only one character repeated. ... ok\n",
            "\n",
            "----------------------------------------------------------------------\n",
            "Ran 8 tests in 0.042s\n",
            "\n",
            "OK\n"
          ]
        },
        {
          "output_type": "stream",
          "name": "stdout",
          "text": [
            "test_compress_decompress passed | Compressed Data: ABĀĂāā | Decompressed Data: ABABABABABA\n",
            "test_compression_edge_case passed | Compressed Data: ABCĀĂāăă | Decompressed Data: ABCABCABCABCABC\n",
            "test_compression_ratio passed | Compression Ratio: 40.909090909090914%\n",
            "test_compression_ratio_with_large_input passed | Compression Ratio: 94.95%\n",
            "test_empty_string passed | Compressed Data:  | Decompressed Data: \n",
            "test_large_input passed | Compressed Data: AĀāĂăĄąĆćĈĉĊċČčĎďĐđĒēĔĕĖėĘęĚěĜĝĞğĠġĢģĤĥĦħĨĩĪĈ... (truncated) | Decompressed Data: AAAAAAAAAAAAAAAAAAAAAAAAAAAAAAAAAAAAAAAAAAAAAAAAAAAAAAAAAAAAAAAAAAAAAAAAAAAAAAAAAAAAAAAAAAAAAAAAAAAA... (truncated)\n",
            "test_non_ascii_characters passed | Compressed Data: áéíóú | Decompressed Data: áéíóú\n",
            "test_single_character_string passed | Compressed Data: AĀĀ | Decompressed Data: AAAAA\n"
          ]
        },
        {
          "output_type": "execute_result",
          "data": {
            "text/plain": [
              "<unittest.main.TestProgram at 0x7ec2bc1889d0>"
            ]
          },
          "metadata": {},
          "execution_count": 144
        }
      ]
    },
    {
      "cell_type": "markdown",
      "source": [
        "# Dump Code"
      ],
      "metadata": {
        "id": "Fd6HZ5GTQO6A"
      }
    },
    {
      "cell_type": "code",
      "execution_count": 58,
      "metadata": {
        "colab": {
          "base_uri": "https://localhost:8080/"
        },
        "id": "oVdeF7pjCBUz",
        "outputId": "84904a5d-4d7d-4669-d7a6-58b998cc5390"
      },
      "outputs": [
        {
          "output_type": "stream",
          "name": "stdout",
          "text": [
            "Original string: ABABABABABA\n",
            "Compressed data: [65, 66, 256, 258, 257, 257]\n",
            "Decompressed string: ABABABABABA\n"
          ]
        }
      ],
      "source": [
        "def lzw_compress(input_string):\n",
        "    # Initialize the dictionary with single characters\n",
        "    dictionary = {chr(i): i for i in range(256)}  # ASCII characters\n",
        "    next_code = 256  # Next available code for new strings\n",
        "    current_string = \"\"\n",
        "    compressed_data = []\n",
        "\n",
        "    # Iterate over each character in the input string\n",
        "    for char in input_string:\n",
        "        current_string_plus_char = current_string + char\n",
        "        if current_string_plus_char in dictionary:\n",
        "            current_string = current_string_plus_char  # Continue the string\n",
        "        else:\n",
        "            # Output the code for current_string\n",
        "            compressed_data.append(dictionary[current_string])\n",
        "            # Add new string to dictionary\n",
        "            dictionary[current_string_plus_char] = next_code\n",
        "            next_code += 1\n",
        "            # Start a new current_string\n",
        "            current_string = char\n",
        "\n",
        "    # Output the code for the last current_string\n",
        "    if current_string:\n",
        "        compressed_data.append(dictionary[current_string])\n",
        "\n",
        "    return compressed_data\n",
        "\n",
        "\n",
        "def lzw_decompress(compressed_data):\n",
        "    # Rebuild the dictionary with single characters\n",
        "    dictionary = {i: chr(i) for i in range(256)}  # ASCII characters\n",
        "    next_code = 256  # Next available code for new strings\n",
        "    current_code = compressed_data[0]\n",
        "    decompressed_string = dictionary[current_code]\n",
        "    current_string = decompressed_string\n",
        "\n",
        "    # Iterate over the compressed data\n",
        "    for code in compressed_data[1:]:\n",
        "        if code in dictionary:\n",
        "            entry = dictionary[code]\n",
        "        elif code == next_code:\n",
        "            entry = current_string + current_string[0]\n",
        "        decompressed_string += entry\n",
        "\n",
        "        # Add the new string to the dictionary\n",
        "        dictionary[next_code] = current_string + entry[0]\n",
        "        next_code += 1\n",
        "\n",
        "        # Update the current string\n",
        "        current_string = entry\n",
        "\n",
        "    return decompressed_string\n",
        "\n",
        "\n",
        "# Example Usage\n",
        "input_string = \"ABABABABABA\"\n",
        "print(f\"Original string: {input_string}\")\n",
        "\n",
        "compressed_data = lzw_compress(input_string)\n",
        "print(f\"Compressed data: {compressed_data}\")\n",
        "\n",
        "decompressed_string = lzw_decompress(compressed_data)\n",
        "print(f\"Decompressed string: {decompressed_string}\")\n"
      ]
    },
    {
      "cell_type": "code",
      "source": [],
      "metadata": {
        "id": "mPQACSxxO0AY"
      },
      "execution_count": null,
      "outputs": []
    },
    {
      "cell_type": "markdown",
      "source": [],
      "metadata": {
        "id": "rQ6FI4C6H-Lp"
      }
    },
    {
      "cell_type": "code",
      "source": [
        "# Repeat the content to match or exceed 98304 characters\n",
        "repeated_data = (merged_ktps[0] * (98304 // len(merged_ktps[0]) + 1))[:98304]  # Truncate to exactly 98304 characters\n",
        "\n",
        "# Verify length\n",
        "print(len(repeated_data))  # Output: 98304"
      ],
      "metadata": {
        "colab": {
          "base_uri": "https://localhost:8080/"
        },
        "id": "YBkqquPgMVDa",
        "outputId": "da37b5d1-467f-4c56-c2e2-f75c4a7ac81e"
      },
      "execution_count": 62,
      "outputs": [
        {
          "output_type": "stream",
          "name": "stdout",
          "text": [
            "98304\n"
          ]
        }
      ]
    },
    {
      "cell_type": "code",
      "source": [
        "def string_to_bits(message):\n",
        "    # Convert each character in the string to its binary representation (8 bits)\n",
        "    bits = ''.join(format(ord(c), '08b') for c in message)\n",
        "    return bits\n",
        "\n",
        "def message_length_in_bits(message):\n",
        "    bits = string_to_bits(message)\n",
        "    return len(bits)\n",
        "\n",
        "# Example usage\n",
        "message = \"Hello, world!\"\n",
        "bits = string_to_bits(message)\n",
        "length_in_bits = message_length_in_bits(message)\n",
        "\n",
        "print(f\"Message: {message}\")\n",
        "print(f\"Bits: {bits}\")\n",
        "print(f\"Length in bits: {length_in_bits}\")\n"
      ],
      "metadata": {
        "colab": {
          "base_uri": "https://localhost:8080/"
        },
        "id": "Rnv_XqnhGVRZ",
        "outputId": "fcaebd11-8503-4672-f61c-2cb502ee2cb2"
      },
      "execution_count": 7,
      "outputs": [
        {
          "output_type": "stream",
          "name": "stdout",
          "text": [
            "Message: Hello, world!\n",
            "Bits: 01001000011001010110110001101100011011110010110000100000011101110110111101110010011011000110010000100001\n",
            "Length in bits: 104\n"
          ]
        }
      ]
    },
    {
      "cell_type": "code",
      "source": [
        "def lzw_compress(input_string):\n",
        "    # Initialize the dictionary with single characters\n",
        "    dictionary = {chr(i): i for i in range(256)}  # ASCII characters\n",
        "    next_code = 256  # Next available code for new strings\n",
        "    current_string = \"\"\n",
        "    compressed_data = []\n",
        "\n",
        "    # Iterate over each character in the input string\n",
        "    for char in input_string:\n",
        "        current_string_plus_char = current_string + char\n",
        "        if current_string_plus_char in dictionary:\n",
        "            current_string = current_string_plus_char  # Continue the string\n",
        "        else:\n",
        "            # Output the code for current_string\n",
        "            compressed_data.append(dictionary[current_string])\n",
        "            # Add new string to dictionary\n",
        "            dictionary[current_string_plus_char] = next_code\n",
        "            next_code += 1\n",
        "            # Start a new current_string\n",
        "            current_string = char\n",
        "\n",
        "    # Output the code for the last current_string\n",
        "    if current_string:\n",
        "        compressed_data.append(dictionary[current_string])\n",
        "\n",
        "    encode_compressed_data = \"\".join([chr(num) for num in compressed_data])\n",
        "    # print(encode_compressed_data)\n",
        "\n",
        "    return encode_compressed_data\n",
        "\n",
        "\n",
        "def lzw_decompress(encode_compressed_data):\n",
        "\n",
        "    compressed_data = [ord(char) for char in encode_compressed_data]\n",
        "    # Rebuild the dictionary with single characters\n",
        "    dictionary = {i: chr(i) for i in range(256)}  # ASCII characters\n",
        "    next_code = 256  # Next available code for new strings\n",
        "    current_code = compressed_data[0]\n",
        "    decompressed_string = dictionary[current_code]\n",
        "    current_string = decompressed_string\n",
        "\n",
        "    # Iterate over the compressed data\n",
        "    for code in compressed_data[1:]:\n",
        "        if code in dictionary:\n",
        "            entry = dictionary[code]\n",
        "        elif code == next_code:\n",
        "            entry = current_string + current_string[0]\n",
        "        decompressed_string += entry\n",
        "\n",
        "        # Add the new string to the dictionary\n",
        "        dictionary[next_code] = current_string + entry[0]\n",
        "        next_code += 1\n",
        "\n",
        "        # Update the current string\n",
        "        current_string = entry\n",
        "\n",
        "    return decompressed_string\n",
        "\n",
        "\n",
        "# Example Usage\n",
        "input_string = \"ABABABABABA\"\n",
        "print(f\"Original string: {input_string}\")\n",
        "\n",
        "compressed_data = lzw_compress(input_string)\n",
        "print(f\"Compressed data: {compressed_data}\")\n",
        "# print(encode_compressed_data)\n",
        "\n",
        "decompressed_string = lzw_decompress(compressed_data)\n",
        "print(f\"Decompressed string: {decompressed_string}\")\n",
        "assert input_string == decompressed_string"
      ],
      "metadata": {
        "colab": {
          "base_uri": "https://localhost:8080/"
        },
        "id": "zfqytJ3qIwdi",
        "outputId": "ffe33243-2504-4c29-c5b0-06b680385e92"
      },
      "execution_count": 104,
      "outputs": [
        {
          "output_type": "stream",
          "name": "stdout",
          "text": [
            "Original string: ABABABABABA\n",
            "Compressed data: ABĀĂāā\n",
            "Decompressed string: ABABABABABA\n"
          ]
        }
      ]
    },
    {
      "cell_type": "code",
      "source": [
        "# Example usage\n",
        "message_a = compressed_data\n",
        "bits_a = string_to_bits(message_a)\n",
        "length_in_bits_a = message_length_in_bits(message_a)\n",
        "\n",
        "# print(f\"Message: {message}\")\n",
        "# print(f\"Bits: {bits}\")\n",
        "print(f\"Length in bits: {length_in_bits_a}\")\n"
      ],
      "metadata": {
        "colab": {
          "base_uri": "https://localhost:8080/"
        },
        "id": "L1q4BlVFPYNV",
        "outputId": "a9e9a27c-a4f7-4b6e-fbad-ba5aa14d7cd8"
      },
      "execution_count": 105,
      "outputs": [
        {
          "output_type": "stream",
          "name": "stdout",
          "text": [
            "Length in bits: 52\n"
          ]
        }
      ]
    },
    {
      "cell_type": "code",
      "source": [
        "# Example usage\n",
        "message_a = input_string\n",
        "bits_a = string_to_bits(message_a)\n",
        "length_in_bits_b = message_length_in_bits(message_a)\n",
        "\n",
        "# print(f\"Message: {message}\")\n",
        "# print(f\"Bits: {bits}\")\n",
        "print(f\"Length in bits: {length_in_bits_b}\")"
      ],
      "metadata": {
        "colab": {
          "base_uri": "https://localhost:8080/"
        },
        "id": "Jk6W4cCNPbjk",
        "outputId": "5d42adbf-0649-4710-ae2a-e3db6ea9ea8e"
      },
      "execution_count": 106,
      "outputs": [
        {
          "output_type": "stream",
          "name": "stdout",
          "text": [
            "Length in bits: 88\n"
          ]
        }
      ]
    },
    {
      "cell_type": "code",
      "source": [
        "(length_in_bits_b - length_in_bits_a) / length_in_bits_b * 100"
      ],
      "metadata": {
        "colab": {
          "base_uri": "https://localhost:8080/"
        },
        "id": "t7d9Siv0P3kZ",
        "outputId": "61ce6a50-de7a-497e-82a7-6d662bec77b7"
      },
      "execution_count": 92,
      "outputs": [
        {
          "output_type": "execute_result",
          "data": {
            "text/plain": [
              "95.01029970881069"
            ]
          },
          "metadata": {},
          "execution_count": 92
        }
      ]
    },
    {
      "cell_type": "code",
      "source": [
        "compressed_data"
      ],
      "metadata": {
        "colab": {
          "base_uri": "https://localhost:8080/"
        },
        "id": "y0jmGvuVH_v6",
        "outputId": "7f4ccd10-7d12-47fa-8170-049ffb595e7a"
      },
      "execution_count": 18,
      "outputs": [
        {
          "output_type": "execute_result",
          "data": {
            "text/plain": [
              "[65, 66, 256, 258, 257, 257]"
            ]
          },
          "metadata": {},
          "execution_count": 18
        }
      ]
    },
    {
      "cell_type": "code",
      "source": [
        "# Convert the integer 257 into a character\n",
        "char = chr(100000)\n",
        "integer_value = ord(char)\n",
        "print(f\"The integer value of '{char}' is: {integer_value}\")\n",
        "print(f\"The character for integer {integer_value} is: {char}\")"
      ],
      "metadata": {
        "colab": {
          "base_uri": "https://localhost:8080/"
        },
        "id": "lXPFDy9QIAfS",
        "outputId": "1d0f368e-d131-4e2c-fec0-07ff357f208f"
      },
      "execution_count": 26,
      "outputs": [
        {
          "output_type": "stream",
          "name": "stdout",
          "text": [
            "The integer value of '𘚠' is: 100000\n",
            "The character for integer 100000 is: 𘚠\n"
          ]
        }
      ]
    },
    {
      "cell_type": "code",
      "source": [
        "merged_ktps[0]"
      ],
      "metadata": {
        "colab": {
          "base_uri": "https://localhost:8080/",
          "height": 53
        },
        "id": "Ve3FznUUExO9",
        "outputId": "46bc1b83-6355-48f3-ed6e-58ba6882e8cf"
      },
      "execution_count": 5,
      "outputs": [
        {
          "output_type": "execute_result",
          "data": {
            "text/plain": [
              "'1350272107191648#Titi%Nababan,%S.Psi#Sungai%Penuh,%08-06-1941#Laki-Laki#AB#Gg.%Tebet%Barat%Dalam%No.%5,%Kota%Administrasi%Jakarta%Pusat,%JT%86632#1/16#Ville#Hindu#Cerai%Hidup#Petani#WNI#SEUMUR%HIDUP'"
            ],
            "application/vnd.google.colaboratory.intrinsic+json": {
              "type": "string"
            }
          },
          "metadata": {},
          "execution_count": 5
        }
      ]
    },
    {
      "cell_type": "code",
      "source": [
        "# Example Usage\n",
        "input_string_ktp = (repeated_data * 4)[:-1]\n",
        "# print(f\"Original string: {input_string_ktp}\")\n",
        "\n",
        "compressed_data_ktp  = lzw_compress(input_string_ktp)\n",
        "# print(f\"Compressed data: {compressed_data_ktp}\")\n",
        "print(len(compressed_data_ktp))\n",
        "\n",
        "decompressed_string_ktp  = lzw_decompress(compressed_data_ktp)\n",
        "# print(f\"Decompressed string: {decompressed_string_ktp}\")\n",
        "print(len(decompressed_string_ktp))\n",
        "\n",
        "assert input_string_ktp  == decompressed_string_ktp"
      ],
      "metadata": {
        "colab": {
          "base_uri": "https://localhost:8080/"
        },
        "id": "hefQPYjtFAR8",
        "outputId": "dc1b70e9-2405-412e-f4cc-4939c3247c29"
      },
      "execution_count": 71,
      "outputs": [
        {
          "output_type": "stream",
          "name": "stdout",
          "text": [
            "12336\n",
            "393215\n"
          ]
        }
      ]
    },
    {
      "cell_type": "code",
      "source": [
        "(len(decompressed_string_ktp) - len(compressed_data_ktp)) / len(input_string_ktp) * 100"
      ],
      "metadata": {
        "colab": {
          "base_uri": "https://localhost:8080/"
        },
        "id": "Ok-rH18BMYax",
        "outputId": "93061b6e-ad60-496c-cce2-9ee00a8cd7a0"
      },
      "execution_count": 72,
      "outputs": [
        {
          "output_type": "execute_result",
          "data": {
            "text/plain": [
              "96.86278499039965"
            ]
          },
          "metadata": {},
          "execution_count": 72
        }
      ]
    },
    {
      "cell_type": "code",
      "source": [],
      "metadata": {
        "id": "INfc9v_QMBnB"
      },
      "execution_count": null,
      "outputs": []
    },
    {
      "cell_type": "code",
      "source": [
        "# Example Usage\n",
        "input_string = merged_ktps[0]\n",
        "print(f\"Original string: {input_string}\")\n",
        "\n",
        "compressed_data = lzw_compress(input_string)\n",
        "print(f\"Compressed data: {compressed_data}\")\n",
        "\n",
        "decompressed_string = lzw_decompress(compressed_data)\n",
        "print(f\"Decompressed string: {decompressed_string}\")\n",
        "\n",
        "assert input_string == decompressed_string"
      ],
      "metadata": {
        "colab": {
          "base_uri": "https://localhost:8080/"
        },
        "id": "eLKeKEc3GYgg",
        "outputId": "41a118bb-495b-47b8-ac3a-b4e51903c745"
      },
      "execution_count": 8,
      "outputs": [
        {
          "output_type": "stream",
          "name": "stdout",
          "text": [
            "Original string: 1350272107191648#Titi%Nababan,%S.Psi#Sungai%Penuh,%08-06-1941#Laki-Laki#AB#Gg.%Tebet%Barat%Dalam%No.%5,%Kota%Administrasi%Jakarta%Pusat,%JT%86632#1/16#Ville#Hindu#Cerai%Hidup#Petani#WNI#SEUMUR%HIDUP\n",
            "Compressed data: [49, 51, 53, 48, 50, 55, 50, 49, 48, 55, 49, 57, 49, 54, 52, 56, 35, 84, 105, 116, 105, 37, 78, 97, 98, 279, 97, 110, 44, 37, 83, 46, 80, 115, 105, 35, 83, 117, 110, 103, 97, 276, 80, 101, 110, 117, 104, 284, 48, 56, 45, 48, 54, 45, 266, 52, 49, 35, 76, 97, 107, 105, 45, 314, 316, 35, 65, 66, 35, 71, 103, 46, 37, 84, 101, 98, 101, 116, 37, 66, 97, 114, 97, 333, 68, 97, 108, 97, 109, 277, 111, 327, 53, 284, 75, 111, 116, 97, 37, 65, 100, 109, 105, 110, 105, 115, 116, 337, 289, 37, 74, 315, 336, 352, 37, 80, 117, 115, 338, 284, 74, 84, 37, 56, 54, 54, 51, 50, 35, 49, 47, 268, 35, 86, 105, 108, 108, 101, 35, 72, 358, 100, 117, 35, 67, 101, 337, 276, 395, 397, 112, 35, 298, 352, 359, 35, 87, 78, 73, 291, 69, 85, 77, 85, 82, 37, 72, 73, 68, 85, 80]\n",
            "Decompressed string: 1350272107191648#Titi%Nababan,%S.Psi#Sungai%Penuh,%08-06-1941#Laki-Laki#AB#Gg.%Tebet%Barat%Dalam%No.%5,%Kota%Administrasi%Jakarta%Pusat,%JT%86632#1/16#Ville#Hindu#Cerai%Hidup#Petani#WNI#SEUMUR%HIDUP\n"
          ]
        }
      ]
    },
    {
      "cell_type": "code",
      "source": [
        "message = merged_ktps[0]\n",
        "bits = string_to_bits(message)\n",
        "length_in_bits = message_length_in_bits(message)\n",
        "\n",
        "print(f\"Message: {message}\")\n",
        "print(f\"Bits: {bits}\")\n",
        "print(f\"Length in bits: {length_in_bits}\")"
      ],
      "metadata": {
        "colab": {
          "base_uri": "https://localhost:8080/"
        },
        "id": "-EUbnJCgGZ8g",
        "outputId": "c52d51b1-948c-4bfe-e3c7-bdde8dd6e437"
      },
      "execution_count": 9,
      "outputs": [
        {
          "output_type": "stream",
          "name": "stdout",
          "text": [
            "Message: 1350272107191648#Titi%Nababan,%S.Psi#Sungai%Penuh,%08-06-1941#Laki-Laki#AB#Gg.%Tebet%Barat%Dalam%No.%5,%Kota%Administrasi%Jakarta%Pusat,%JT%86632#1/16#Ville#Hindu#Cerai%Hidup#Petani#WNI#SEUMUR%HIDUP\n",
            "Bits: 001100010011001100110101001100000011001000110111001100100011000100110000001101110011000100111001001100010011011000110100001110000010001101010100011010010111010001101001001001010100111001100001011000100110000101100010011000010110111000101100001001010101001100101110010100000111001101101001001000110101001101110101011011100110011101100001011010010010010101010000011001010110111001110101011010000010110000100101001100000011100000101101001100000011011000101101001100010011100100110100001100010010001101001100011000010110101101101001001011010100110001100001011010110110100100100011010000010100001000100011010001110110011100101110001001010101010001100101011000100110010101110100001001010100001001100001011100100110000101110100001001010100010001100001011011000110000101101101001001010100111001101111001011100010010100110101001011000010010101001011011011110111010001100001001001010100000101100100011011010110100101101110011010010111001101110100011100100110000101110011011010010010010101001010011000010110101101100001011100100111010001100001001001010101000001110101011100110110000101110100001011000010010101001010010101000010010100111000001101100011011000110011001100100010001100110001001011110011000100110110001000110101011001101001011011000110110001100101001000110100100001101001011011100110010001110101001000110100001101100101011100100110000101101001001001010100100001101001011001000111010101110000001000110101000001100101011101000110000101101110011010010010001101010111010011100100100100100011010100110100010101010101010011010101010101010010001001010100100001001001010001000101010101010000\n",
            "Length in bits: 1584\n"
          ]
        }
      ]
    },
    {
      "cell_type": "code",
      "source": [],
      "metadata": {
        "id": "ZbdZnH7fGfJZ"
      },
      "execution_count": null,
      "outputs": []
    }
  ]
}