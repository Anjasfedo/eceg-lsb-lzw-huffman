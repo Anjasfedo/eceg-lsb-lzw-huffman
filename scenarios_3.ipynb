{
  "nbformat": 4,
  "nbformat_minor": 0,
  "metadata": {
    "colab": {
      "provenance": [],
      "toc_visible": true,
      "authorship_tag": "ABX9TyNmDZAj3/1Uawba8+pvjRnN",
      "include_colab_link": true
    },
    "kernelspec": {
      "name": "python3",
      "display_name": "Python 3"
    },
    "language_info": {
      "name": "python"
    }
  },
  "cells": [
    {
      "cell_type": "markdown",
      "metadata": {
        "id": "view-in-github",
        "colab_type": "text"
      },
      "source": [
        "<a href=\"https://colab.research.google.com/github/Anjasfedo/eceg-lsb-lzw-huffman/blob/main/scenarios_3.ipynb\" target=\"_parent\"><img src=\"https://colab.research.google.com/assets/colab-badge.svg\" alt=\"Open In Colab\"/></a>"
      ]
    },
    {
      "cell_type": "markdown",
      "source": [
        "# Prepare Data"
      ],
      "metadata": {
        "id": "LbQAwSon0hmP"
      }
    },
    {
      "cell_type": "code",
      "execution_count": 63,
      "metadata": {
        "id": "_WAsnXeU0Daq"
      },
      "outputs": [],
      "source": [
        "!pip install faker -q"
      ]
    },
    {
      "cell_type": "code",
      "source": [
        "from faker import Faker\n",
        "import random\n",
        "\n",
        "class DummyKTPGenerator:\n",
        "    def __init__(self):\n",
        "        self.faker = Faker('id_ID')  # Use Indonesian locale\n",
        "        self.indonesian_jobs = [\n",
        "            \"Guru\", \"Dokter\", \"Petani\", \"Nelayan\", \"Pegawai Negeri\", \"Karyawan Swasta\",\n",
        "            \"Wiraswasta\", \"Mahasiswa\", \"Pelajar\", \"Pengacara\", \"Arsitek\", \"Insinyur\",\n",
        "            \"Pedagang\", \"Polisi\", \"Tentara\", \"Seniman\", \"Penulis\", \"Pilot\", \"Supir\",\n",
        "            \"Teknisi\", \"Pemadam Kebakaran\", \"Apoteker\"\n",
        "        ]\n",
        "\n",
        "    def generate_ktp(self):\n",
        "        \"\"\"Generate a single dummy KTP record.\"\"\"\n",
        "        nik = self.generate_nik()\n",
        "        name = self.faker.name()\n",
        "        birth_place = self.faker.city()\n",
        "        birth_date = self.faker.date_of_birth().strftime('%d-%m-%Y')\n",
        "        gender = random.choice(['Laki-Laki', 'Perempuan'])\n",
        "        blood_type = random.choice(['A', 'B', 'AB', 'O'])\n",
        "        address = self.faker.address().replace('\\n', ', ')\n",
        "        rt_rw = f\"{random.randint(1, 20)}/{random.randint(1, 20)}\"\n",
        "        kelurahan = self.faker.city_suffix()\n",
        "        religion = random.choice(['Islam', 'Kristen', 'Katolik', 'Hindu', 'Buddha', 'Konghucu'])\n",
        "        marital_status = random.choice(['Belum Kawin', 'Kawin', 'Cerai Hidup', 'Cerai Mati'])\n",
        "        occupation = random.choice(self.indonesian_jobs)  # Select random Indonesian job\n",
        "        nationality = 'WNI'  # Assuming all generated data is Indonesian\n",
        "        valid_until = 'SEUMUR HIDUP'\n",
        "\n",
        "        return {\n",
        "            'NIK': nik,\n",
        "            'Nama': name,\n",
        "            'Tempat/Tgl Lahir': f\"{birth_place}, {birth_date}\",\n",
        "            'Jenis Kelamin': gender,\n",
        "            'Gol Darah': blood_type,\n",
        "            'Alamat': address,\n",
        "            'RT/RW': rt_rw,\n",
        "            'Kel/Desa': kelurahan,\n",
        "            'Agama': religion,\n",
        "            'Status Perkawinan': marital_status,\n",
        "            'Pekerjaan': occupation,\n",
        "            'Kewarganegaraan': nationality,\n",
        "            'Berlaku Hingga': valid_until,\n",
        "        }\n",
        "\n",
        "    def generate_nik(self):\n",
        "        \"\"\"Generate a dummy NIK (Indonesian identity number).\"\"\"\n",
        "        province_code = random.randint(10, 34)  # Random province code\n",
        "        regency_code = random.randint(1, 99)   # Random regency code\n",
        "        district_code = random.randint(1, 99) # Random district code\n",
        "        date_of_birth = self.faker.date_of_birth()\n",
        "        birth_date_part = date_of_birth.strftime('%d%m%y')  # Format DDMMYY\n",
        "        random_sequence = random.randint(1000, 9999)       # Random sequence number\n",
        "        return f\"{province_code:02}{regency_code:02}{district_code:02}{birth_date_part}{random_sequence:04}\"\n",
        "\n",
        "    def generate_multiple_ktps(self, count=1):\n",
        "        \"\"\"Generate multiple dummy KTP records.\"\"\"\n",
        "        return [self.generate_ktp() for _ in range(count)]\n",
        "\n",
        "    @staticmethod\n",
        "    def merge_ktp_data(ktp):\n",
        "        \"\"\"\n",
        "        Merge a single KTP dictionary into a formatted string with '#' as a separator.\n",
        "        Replace spaces with '%'.\n",
        "        \"\"\"\n",
        "        fields = [\n",
        "            ktp.get('NIK', ''),\n",
        "            ktp.get('Nama', ''),\n",
        "            ktp.get('Tempat/Tgl Lahir', ''),\n",
        "            ktp.get('Jenis Kelamin', ''),\n",
        "            ktp.get('Gol Darah', ''),\n",
        "            ktp.get('Alamat', ''),\n",
        "            ktp.get('RT/RW', ''),\n",
        "            ktp.get('Kel/Desa', ''),\n",
        "            ktp.get('Agama', ''),\n",
        "            ktp.get('Status Perkawinan', ''),\n",
        "            ktp.get('Pekerjaan', ''),\n",
        "            ktp.get('Kewarganegaraan', ''),\n",
        "            ktp.get('Berlaku Hingga', '')\n",
        "        ]\n",
        "        merged = '#'.join(fields)\n",
        "        return merged.replace(' ', '%')\n",
        "\n",
        "    @staticmethod\n",
        "    def merge_multiple_ktps(ktps):\n",
        "        \"\"\"\n",
        "        Merge multiple KTP dictionaries into formatted strings with '#' as a separator.\n",
        "        Replace spaces with '%'.\n",
        "        \"\"\"\n",
        "        return [DummyKTPGenerator.merge_ktp_data(ktp) for ktp in ktps]\n"
      ],
      "metadata": {
        "id": "lC8_XM6B0l_8"
      },
      "execution_count": 64,
      "outputs": []
    },
    {
      "cell_type": "code",
      "source": [
        "generator = DummyKTPGenerator()\n",
        "\n",
        "# Generate multiple dummy KTPs\n",
        "dummy_ktps = generator.generate_multiple_ktps(count=5)\n",
        "\n",
        "# Merge single KTP\n",
        "merged_ktp = generator.merge_ktp_data(dummy_ktps[0])\n",
        "print(\"Merged Single KTP:\", merged_ktp)\n",
        "\n",
        "# Merge multiple KTPs\n",
        "merged_ktps = generator.merge_multiple_ktps(dummy_ktps)\n",
        "print(\"Merged Multiple KTPs:\")\n",
        "for m_ktp in merged_ktps:\n",
        "    print(m_ktp)"
      ],
      "metadata": {
        "colab": {
          "base_uri": "https://localhost:8080/"
        },
        "id": "dLDabhTZ0nXA",
        "outputId": "f5e196a7-68bb-4e64-cfd5-36e94abd2be4"
      },
      "execution_count": 65,
      "outputs": [
        {
          "output_type": "stream",
          "name": "stdout",
          "text": [
            "Merged Single KTP: 1075571201538811#R.A.%Victoria%Saptono#Metro,%31-10-1941#Laki-Laki#B#Jalan%Suniaraja%No.%2,%Madiun,%ST%59656#4/3#Ville#Hindu#Cerai%Mati#Karyawan%Swasta#WNI#SEUMUR%HIDUP\n",
            "Merged Multiple KTPs:\n",
            "1075571201538811#R.A.%Victoria%Saptono#Metro,%31-10-1941#Laki-Laki#B#Jalan%Suniaraja%No.%2,%Madiun,%ST%59656#4/3#Ville#Hindu#Cerai%Mati#Karyawan%Swasta#WNI#SEUMUR%HIDUP\n",
            "1925620510365098#Puti%Padma%Yuliarti,%M.Ak#Sungai%Penuh,%30-10-1914#Perempuan#AB#Gg.%Ahmad%Dahlan%No.%60,%Bekasi,%KI%97295#6/14#Ville#Hindu#Cerai%Mati#Karyawan%Swasta#WNI#SEUMUR%HIDUP\n",
            "2264171801661721#Anita%Haryanto#Cirebon,%14-09-1960#Perempuan#A#Gg.%Setiabudhi%No.%3,%Binjai,%Kalimantan%Timur%75239#18/3#Ville#Buddha#Cerai%Hidup#Seniman#WNI#SEUMUR%HIDUP\n",
            "1862522306694339#drg.%Gambira%Winarno,%S.IP#Madiun,%09-05-1984#Perempuan#AB#Gang%Suryakencana%No.%16,%Lubuklinggau,%NB%49183#3/17#Ville#Islam#Cerai%Hidup#Teknisi#WNI#SEUMUR%HIDUP\n",
            "2218933006122533#Ghaliyati%Simanjuntak#Subulussalam,%10-12-1936#Perempuan#A#Jl.%Cikutra%Barat%No.%2,%Pematangsiantar,%SU%93989#8/12#Ville#Kristen#Cerai%Hidup#Seniman#WNI#SEUMUR%HIDUP\n"
          ]
        }
      ]
    },
    {
      "cell_type": "code",
      "source": [
        "message_ktp = merged_ktps[0]\n",
        "message_ktp"
      ],
      "metadata": {
        "colab": {
          "base_uri": "https://localhost:8080/",
          "height": 35
        },
        "id": "rRWQRlM50qId",
        "outputId": "b9f656f1-63e7-4404-ea6a-c6f15f2dae42"
      },
      "execution_count": 66,
      "outputs": [
        {
          "output_type": "execute_result",
          "data": {
            "text/plain": [
              "'1075571201538811#R.A.%Victoria%Saptono#Metro,%31-10-1941#Laki-Laki#B#Jalan%Suniaraja%No.%2,%Madiun,%ST%59656#4/3#Ville#Hindu#Cerai%Mati#Karyawan%Swasta#WNI#SEUMUR%HIDUP'"
            ],
            "application/vnd.google.colaboratory.intrinsic+json": {
              "type": "string"
            }
          },
          "metadata": {},
          "execution_count": 66
        }
      ]
    },
    {
      "cell_type": "markdown",
      "source": [
        "# Prepare Image"
      ],
      "metadata": {
        "id": "Csluvrue0qlq"
      }
    },
    {
      "cell_type": "code",
      "source": [
        "import requests\n",
        "from PIL import Image\n",
        "import io\n",
        "import numpy as np\n",
        "\n",
        "# URL to the raw image file\n",
        "url = \"https://raw.githubusercontent.com/mikolalysenko/lena/master/lena.png\"\n",
        "\n",
        "# Download the image\n",
        "response = requests.get(url)\n",
        "if response.status_code == 200:\n",
        "    # Load the image using PIL\n",
        "    lena_image = Image.open(io.BytesIO(response.content))\n",
        "    lena_image.show()  # Display the image (optional)\n",
        "    lena_image.save(\"lena.png\")  # Save the image locally\n",
        "else:\n",
        "    print(\"Failed to download the image.\")"
      ],
      "metadata": {
        "id": "0Fj__oNw04iR"
      },
      "execution_count": 67,
      "outputs": []
    },
    {
      "cell_type": "code",
      "source": [
        "import os\n",
        "LENA_IMG = 'lena.png'\n",
        "\n",
        "if not os.path.exists(LENA_IMG):\n",
        "    raise FileNotFoundError(f\"Image not found at {LENA_IMG}\")"
      ],
      "metadata": {
        "id": "ASvdlQBL06EE"
      },
      "execution_count": 68,
      "outputs": []
    },
    {
      "cell_type": "markdown",
      "source": [
        "# Stego Metrics"
      ],
      "metadata": {
        "id": "lwlA1Tco08cW"
      }
    },
    {
      "cell_type": "code",
      "source": [
        "import cv2\n",
        "import numpy as np\n",
        "from skimage.metrics import structural_similarity as skimage_ssim\n",
        "\n",
        "\n",
        "class StegoMetrics:\n",
        "    def __init__(self, ori_image):\n",
        "        \"\"\"\n",
        "        Initialize the StegoMetrics class with the original image path.\n",
        "\n",
        "        Args:\n",
        "            ori_image (str): Path to the original image.\n",
        "        \"\"\"\n",
        "        self.ori_image = ori_image\n",
        "\n",
        "    @staticmethod\n",
        "    def calculate_mse(original, stego):\n",
        "        \"\"\"\n",
        "        Calculate the Mean Squared Error (MSE) between two images.\n",
        "\n",
        "        Args:\n",
        "            original (numpy.ndarray): Original image array.\n",
        "            stego (numpy.ndarray): Stego image array.\n",
        "\n",
        "        Returns:\n",
        "            float: The MSE value.\n",
        "        \"\"\"\n",
        "        return np.mean((original - stego) ** 2)\n",
        "\n",
        "    def calculate_psnr(self, stego_image_path):\n",
        "        \"\"\"\n",
        "        Calculate the Peak Signal-to-Noise Ratio (PSNR) between the original and stego image.\n",
        "\n",
        "        Args:\n",
        "            stego_image_path (str): Path to the stego image.\n",
        "\n",
        "        Returns:\n",
        "            float: The PSNR value.\n",
        "        \"\"\"\n",
        "        # Read images\n",
        "        original = cv2.imread(self.ori_image)\n",
        "        stego = cv2.imread(stego_image_path)\n",
        "\n",
        "        if original is None:\n",
        "            raise ValueError(f\"Failed to load original image from {self.ori_image}. Ensure the file exists and is a valid image format.\")\n",
        "        if stego is None:\n",
        "            raise ValueError(f\"Failed to load stego image from {stego_image_path}. Ensure the file exists and is a valid image format.\")\n",
        "\n",
        "        # Calculate MSE\n",
        "        mse = self.calculate_mse(original, stego)\n",
        "        if mse == 0:  # If images are identical\n",
        "            return float('inf')\n",
        "\n",
        "        # Calculate PSNR\n",
        "        max_pixel_value = 255.0\n",
        "        psnr = 10 * np.log10((max_pixel_value ** 2) / mse)\n",
        "        return psnr\n",
        "\n",
        "    @staticmethod\n",
        "    def calculate_ssim(original, stego):\n",
        "        \"\"\"\n",
        "        Calculate the Structural Similarity Index (SSIM) between two images.\n",
        "\n",
        "        Args:\n",
        "            original (numpy.ndarray): Original image array.\n",
        "            stego (numpy.ndarray): Stego image array.\n",
        "\n",
        "        Returns:\n",
        "            float: The SSIM value.\n",
        "        \"\"\"\n",
        "        original_gray = cv2.cvtColor(original, cv2.COLOR_BGR2GRAY)\n",
        "        stego_gray = cv2.cvtColor(stego, cv2.COLOR_BGR2GRAY)\n",
        "\n",
        "        ssim_value, _ = skimage_ssim(original_gray, stego_gray, full=True)\n",
        "        return ssim_value\n",
        "\n",
        "\n",
        "    def calculate_metrics(self, stego_image_path):\n",
        "        \"\"\"\n",
        "        Calculate MSE, PSNR, and SSIM between the original and stego image.\n",
        "\n",
        "        Args:\n",
        "            stego_image_path (str): Path to the stego image.\n",
        "\n",
        "        Returns:\n",
        "            tuple: MSE, PSNR, and SSIM values.\n",
        "        \"\"\"\n",
        "        # Read images\n",
        "        original = cv2.imread(self.ori_image)\n",
        "        stego = cv2.imread(stego_image_path)\n",
        "\n",
        "        if original is None:\n",
        "            raise ValueError(f\"Failed to load original image from {self.ori_image}. Ensure the file exists and is a valid image format.\")\n",
        "        if stego is None:\n",
        "            raise ValueError(f\"Failed to load stego image from {stego_image_path}. Ensure the file exists and is a valid image format.\")\n",
        "\n",
        "        # Calculate metrics\n",
        "        mse_value = self.calculate_mse(original, stego)\n",
        "        psnr_value = self.calculate_psnr(stego_image_path)\n",
        "        ssim_value = self.calculate_ssim(original, stego)\n",
        "\n",
        "        print(f'Metrics between original ({self.ori_image}) and stego image ({stego_image_path}):')\n",
        "        print(f'MSE: {mse_value}')\n",
        "        print(f'PSNR: {psnr_value}')\n",
        "        print(f'SSIM: {ssim_value}')\n",
        "\n",
        "        return mse_value, psnr_value, ssim_value"
      ],
      "metadata": {
        "id": "iCgXqmcx083o"
      },
      "execution_count": 69,
      "outputs": []
    },
    {
      "cell_type": "code",
      "source": [
        "original_image_path = 'lena.png'\n",
        "stego_metrics = StegoMetrics(ori_image=original_image_path)"
      ],
      "metadata": {
        "id": "ZBLCU6Fz0-rL"
      },
      "execution_count": 70,
      "outputs": []
    },
    {
      "cell_type": "markdown",
      "source": [
        "# Bits Information"
      ],
      "metadata": {
        "id": "iftVYX8I1DwM"
      }
    },
    {
      "cell_type": "code",
      "source": [
        "def bits_information(bits):\n",
        "    \"\"\"\n",
        "    Convert bits to kilobytes (KB), megabytes (MB), gigabytes (GB), and terabytes (TB).\n",
        "    \"\"\"\n",
        "    bytes_value = bits / 8\n",
        "    kb_value = bytes_value / 1024\n",
        "    mb_value = kb_value / 1024\n",
        "    gb_value = mb_value / 1024\n",
        "    tb_value = gb_value / 1024\n",
        "\n",
        "    print(f\"{bits} bits is:\")\n",
        "    print(f\"{kb_value:.2f} KB\")\n",
        "    print(f\"{mb_value:.4f} MB\")\n",
        "    print(f\"{gb_value:.6f} GB\")\n",
        "    print(f\"{tb_value:.9f} TB\")  # More precision for TB\n",
        "    print()"
      ],
      "metadata": {
        "id": "dDLop-la1Fua"
      },
      "execution_count": 71,
      "outputs": []
    },
    {
      "cell_type": "markdown",
      "source": [
        "# File Size Information"
      ],
      "metadata": {
        "id": "ITaDlu-v1oc1"
      }
    },
    {
      "cell_type": "code",
      "source": [
        "import os\n",
        "\n",
        "def format_file_size(size_in_bytes):\n",
        "    \"\"\"\n",
        "    Convert a file size in bytes to a human-readable format (KB, MB, GB, etc.).\n",
        "\n",
        "    Args:\n",
        "        size_in_bytes (int): The size of the file in bytes.\n",
        "\n",
        "    Returns:\n",
        "        str: The size in a human-readable format.\n",
        "    \"\"\"\n",
        "    if size_in_bytes < 1024:\n",
        "        return f\"{size_in_bytes} Bytes\"\n",
        "    elif size_in_bytes < 1024 ** 2:\n",
        "        return f\"{size_in_bytes / 1024:.2f} KB\"\n",
        "    elif size_in_bytes < 1024 ** 3:\n",
        "        return f\"{size_in_bytes / (1024 ** 2):.2f} MB\"\n",
        "    elif size_in_bytes < 1024 ** 4:\n",
        "        return f\"{size_in_bytes / (1024 ** 3):.2f} GB\"\n",
        "    else:\n",
        "        return f\"{size_in_bytes / (1024 ** 4):.2f} TB\"\n",
        "\n",
        "def print_png_file_sizes(output_image_path, input_image_path='lena.png'):\n",
        "    \"\"\"\n",
        "    Function to read and print the sizes of two PNG files in a human-readable format.\n",
        "\n",
        "    Args:\n",
        "        input_image_path (str): Full path to the input PNG file.\n",
        "        output_image_path (str): Full path to the output PNG file.\n",
        "    \"\"\"\n",
        "    for file_path in [input_image_path, output_image_path]:\n",
        "        if os.path.isfile(file_path) and file_path.lower().endswith('.png'):\n",
        "            file_size = os.path.getsize(file_path)\n",
        "            human_readable_size = format_file_size(file_size)\n",
        "            print(f\"The size of the file '{file_path}' is: {human_readable_size}\")\n",
        "        else:\n",
        "            print(f\"File '{file_path}' not found or it is not a PNG file.\")"
      ],
      "metadata": {
        "id": "bzmL8hJ71oxM"
      },
      "execution_count": 72,
      "outputs": []
    },
    {
      "cell_type": "markdown",
      "source": [
        "# Bit & Message"
      ],
      "metadata": {
        "id": "BvZftSIn2URN"
      }
    },
    {
      "cell_type": "code",
      "source": [
        "def message_to_bit(message, bit_length=8):\n",
        "    \"\"\"\n",
        "    Convert a text message into a binary string with a specified bit length per character.\n",
        "    \"\"\"\n",
        "    return ''.join(format(ord(char), f'0{bit_length}b') for char in message)\n",
        "\n",
        "def bit_to_message(bit_string, bit_length=8):\n",
        "    \"\"\"\n",
        "    Convert a binary string back into a text message using the specified bit length per character.\n",
        "    \"\"\"\n",
        "    if len(bit_string) % bit_length != 0:\n",
        "        raise ValueError(\"Invalid bit string length for the specified bit length.\")\n",
        "\n",
        "    chars = [bit_string[i:i+bit_length] for i in range(0, len(bit_string), bit_length)]\n",
        "    return ''.join(chr(int(char, 2)) for char in chars)"
      ],
      "metadata": {
        "id": "7RBBDnmf2Vfv"
      },
      "execution_count": 73,
      "outputs": []
    },
    {
      "cell_type": "markdown",
      "source": [
        "# Steganography"
      ],
      "metadata": {
        "id": "TG4ptpD-1smV"
      }
    },
    {
      "cell_type": "markdown",
      "source": [
        "## Least Significant Bit"
      ],
      "metadata": {
        "id": "yWs9jXl31u87"
      }
    },
    {
      "cell_type": "code",
      "source": [
        "from PIL import Image\n",
        "import numpy as np\n",
        "import math\n",
        "\n",
        "\n",
        "class LeastSignificantBit:\n",
        "    def __init__(self, k_val=1):\n",
        "        \"\"\"\n",
        "        Initialize the LeastSignificantBit class.\n",
        "\n",
        "        Args:\n",
        "            k_val (int): The number of least significant bits to use for embedding.\n",
        "        \"\"\"\n",
        "        if not (1 <= k_val <= 8):\n",
        "            raise ValueError(\"k_val must be between 1 and 8.\")\n",
        "        self.k_val = k_val\n",
        "\n",
        "    def calculate_max_message_size(self, image_path):\n",
        "        \"\"\"\n",
        "        Calculate the maximum number of characters that can be stored in an image\n",
        "        using the dynamic encoding method.\n",
        "\n",
        "        Returns:\n",
        "            max_chars (int): The maximum number of characters that can be stored.\n",
        "            max_bits (int): The total number of usable bits for message storage.\n",
        "        \"\"\"\n",
        "        image = Image.open(image_path)\n",
        "        img_data = np.array(image)\n",
        "\n",
        "        # Calculate total bit capacity\n",
        "        height, width, channels = img_data.shape\n",
        "        total_capacity_bits = height * width * channels * self.k_val\n",
        "\n",
        "        total_capacity_bits = total_capacity_bits - 32\n",
        "\n",
        "        max_chars = total_capacity_bits // 8\n",
        "\n",
        "        max_bits = total_capacity_bits\n",
        "\n",
        "        # print(max_chars, max_bits)\n",
        "\n",
        "        return max_chars, max_bits\n",
        "\n",
        "    def message_to_bits(self, message_bits):\n",
        "        \"\"\"\n",
        "        Convert a string message to a bit string, using a dynamically determined bit length for the message size.\n",
        "        \"\"\"\n",
        "        message_length = len(message_bits)\n",
        "        print(f\"embbed message {message_length}\")\n",
        "\n",
        "        message_length_bits = format(message_length, f'032b')\n",
        "\n",
        "        return message_length_bits + message_bits\n",
        "\n",
        "    def bits_to_message(self, bits):\n",
        "        \"\"\"\n",
        "        Convert a bit string back to a human-readable message, using dynamically encoded message length.\n",
        "        \"\"\"\n",
        "        message_length_bit = bits[:32]\n",
        "\n",
        "        message_length = int(message_length_bit, 2)\n",
        "        print(f\"extract message {message_length}\")\n",
        "\n",
        "        message_bits = bits[32:32 + message_length]\n",
        "\n",
        "        print(len(bits))\n",
        "\n",
        "        return message_bits\n",
        "\n",
        "    @staticmethod\n",
        "    def change_n_lsb(binary_number, new_lsbs, k_val):\n",
        "        \"\"\"\n",
        "        Modify the n least significant bits (LSBs) of a binary number.\n",
        "        \"\"\"\n",
        "        binary_literal = int(new_lsbs, 2)\n",
        "        mask = ~((1 << k_val) - 1) & 0xFF\n",
        "        return (binary_number & mask) | binary_literal\n",
        "\n",
        "    def embed_message(self, input_image_path, output_image_path, message):\n",
        "        \"\"\"\n",
        "        Modify pixel values of an image to embed a message.\n",
        "        \"\"\"\n",
        "        message_bits = self.message_to_bits(message)\n",
        "\n",
        "        image = Image.open(input_image_path)\n",
        "        img_data = np.array(image)\n",
        "\n",
        "        height, width, channels = img_data.shape\n",
        "        max_chars, max_bits = self.calculate_max_message_size(input_image_path)\n",
        "        if len(message_bits) > max_bits:\n",
        "            raise ValueError(f\"Message too long! max_bits: {max_bits} bits, Message: {len(message_bits)} bits.\")\n",
        "\n",
        "            # Calculate maximum capacity\n",
        "\n",
        "        bit_idx = 0\n",
        "        for h in range(height):\n",
        "            for w in range(width):\n",
        "                for c in range(channels):\n",
        "                    if bit_idx < len(message_bits):\n",
        "                        original_value = img_data[h, w, c]\n",
        "                        bits_to_embed = message_bits[bit_idx:bit_idx + self.k_val]\n",
        "                        bits_to_embed = bits_to_embed.ljust(self.k_val, '0')\n",
        "\n",
        "                        img_data[h, w, c] = self.change_n_lsb(original_value, bits_to_embed, self.k_val)\n",
        "                        bit_idx += self.k_val\n",
        "                if bit_idx >= len(message_bits):\n",
        "                    break\n",
        "            if bit_idx >= len(message_bits):\n",
        "                break\n",
        "\n",
        "        stego_image = Image.fromarray(img_data)\n",
        "        stego_image.save(output_image_path, format=\"PNG\")\n",
        "        return stego_image\n",
        "\n",
        "    def extract_message(self, stego_image_path):\n",
        "        \"\"\"\n",
        "        Extract a hidden message from an image that uses LSB encoding.\n",
        "        \"\"\"\n",
        "        image = Image.open(stego_image_path)\n",
        "        img_data = np.array(image)\n",
        "\n",
        "        height, width, channels = img_data.shape\n",
        "        extracted_bits = \"\"\n",
        "\n",
        "        for h in range(height):\n",
        "            for w in range(width):\n",
        "                for c in range(channels):\n",
        "                    pixel_value = img_data[h, w, c]\n",
        "                    lsb_bits = format(pixel_value, '08b')[-self.k_val:]\n",
        "                    extracted_bits += lsb_bits\n",
        "\n",
        "        # Ensure that we are extracting the correct number of bits\n",
        "        return self.bits_to_message(extracted_bits)\n",
        "\n"
      ],
      "metadata": {
        "id": "ttMpxKyR1wtx"
      },
      "execution_count": 74,
      "outputs": []
    },
    {
      "cell_type": "markdown",
      "source": [
        "# Criptography"
      ],
      "metadata": {
        "id": "42hLS2H71zjI"
      }
    },
    {
      "cell_type": "markdown",
      "source": [
        "## Elliptic Curve El Gamal"
      ],
      "metadata": {
        "id": "qSR9DJFj1001"
      }
    },
    {
      "cell_type": "code",
      "source": [
        "import random\n",
        "\n",
        "class Point:\n",
        "    def __init__(self, x=None, y=None):\n",
        "        self.x = x\n",
        "        self.y = y\n",
        "\n",
        "    def is_infinity(self):\n",
        "        \"\"\"Check if the point is the point at infinity.\"\"\"\n",
        "        return self.x is None and self.y is None\n",
        "\n",
        "    def __eq__(self, other):\n",
        "        \"\"\"Custom equality check for Point objects.\"\"\"\n",
        "        if isinstance(other, Point):\n",
        "            return self.x == other.x and self.y == other.y\n",
        "        return False\n",
        "\n",
        "    def __hash__(self):\n",
        "        \"\"\"Make Point hashable by defining a unique hash.\"\"\"\n",
        "        return hash((self.x, self.y))\n",
        "\n",
        "    def __repr__(self):\n",
        "        if self.is_infinity():\n",
        "            return \"Point at Infinity\"\n",
        "        return f\"Point({self.x}, {self.y})\"\n",
        "\n",
        "class EllipticCurveElGamal:\n",
        "  def __init__(self):\n",
        "    self.a = 214\n",
        "    self.b = 110\n",
        "    self.p = 251\n",
        "    # self.p = 233\n",
        "    self.base_point = self.generate_random_valid_point()\n",
        "\n",
        "    self.characters = [chr(i) for i in range(256)]\n",
        "    # self.characters = [chr(i) for i in range(1, 256)]\n",
        "\n",
        "    self.valid_points = self.get_all_points()\n",
        "    self.point_to_char, self.char_to_point = self.create_mappings()\n",
        "\n",
        "  def elliptic_curve_equation(self, x):\n",
        "    return (x**3 + self.a*x + self.b) % self.p\n",
        "\n",
        "  def is_on_curve(self, x, y):\n",
        "        \"\"\"Check if a point (x, y) lies on the curve.\"\"\"\n",
        "        if x is None or y is None:\n",
        "            return True\n",
        "        return (y**2 - (x**3 + self.a * x + self.b)) % self.p == 0\n",
        "\n",
        "  def generate_random_valid_point(self):\n",
        "        \"\"\"Generate a random point that lies on the elliptic curve.\"\"\"\n",
        "        while True:\n",
        "            x = random.randint(0, self.p - 1)\n",
        "            y_squared = (x**3 + self.a * x + self.b) % self.p\n",
        "\n",
        "            if pow(y_squared, (self.p - 1) // 2, self.p) == 1:\n",
        "                for y in range(self.p):\n",
        "                    if (y**2) % self.p == y_squared:\n",
        "                        return Point(x, y)\n",
        "\n",
        "  def calc_point_add(self, P, Q):\n",
        "    \"\"\"Calculate the addition of two points P and Q on the elliptic curve.\"\"\"\n",
        "    R = Point()\n",
        "\n",
        "    if P.is_infinity():\n",
        "        return Q\n",
        "    if Q.is_infinity():\n",
        "        return P\n",
        "\n",
        "    if P.x == Q.x and (P.y != Q.y or P.y == 0):\n",
        "        return Point()\n",
        "\n",
        "    # Calculate slope\n",
        "    if P.x == Q.x and P.y == Q.y:\n",
        "        slope = (3 * P.x**2 + self.a) * pow(2 * P.y, -1, self.p) % self.p\n",
        "    else:\n",
        "        slope = (Q.y - P.y) * pow(Q.x - P.x, -1, self.p) % self.p\n",
        "\n",
        "    R.x = (slope**2 - P.x - Q.x) % self.p\n",
        "\n",
        "    R.y = (slope * (P.x - R.x) - P.y) % self.p\n",
        "\n",
        "    return R\n",
        "\n",
        "  def calc_point_doubling(self, P):\n",
        "      \"\"\"Calculate the point doubling 2P = P + P on the elliptic curve.\"\"\"\n",
        "      R = Point()\n",
        "\n",
        "      if P.is_infinity() or P.y == 0:\n",
        "          return Point()\n",
        "\n",
        "      slope = (3 * P.x**2 + self.a) * pow(2 * P.y, -1, self.p) % self.p\n",
        "\n",
        "      R.x = (slope**2 - 2 * P.x) % self.p\n",
        "\n",
        "      R.y = (slope * (P.x - R.x) - P.y) % self.p\n",
        "\n",
        "      return R\n",
        "\n",
        "  def calc_point_subtraction(self, P, Q):\n",
        "    \"\"\"Calculate the subtraction of two points P - Q on the elliptic curve.\"\"\"\n",
        "    if Q.is_infinity():\n",
        "        return P\n",
        "\n",
        "    if P.is_infinity():\n",
        "        Q_neg = Point(Q.x, (-Q.y) % self.p)\n",
        "        return Q_neg\n",
        "\n",
        "    Q_neg = Point(Q.x, (-Q.y) % self.p)\n",
        "\n",
        "    return self.calc_point_add(P, Q_neg)\n",
        "\n",
        "\n",
        "  def calc_point_multiplication(self, P, k):\n",
        "    \"\"\"Calculate kP using the double-and-add method.\"\"\"\n",
        "    R = Point()\n",
        "    current_point = P\n",
        "\n",
        "    while k > 0:\n",
        "        if k % 2 == 1:\n",
        "            R = self.calc_point_add(R, current_point)\n",
        "        current_point = self.calc_point_add(current_point, current_point)\n",
        "        k //= 2\n",
        "\n",
        "    return R\n",
        "\n",
        "  def generate_keys(self):\n",
        "        \"\"\"Generate a private and public key pair.\"\"\"\n",
        "        private_key = random.randint(1, self.p - 1)\n",
        "\n",
        "        public_key = self.calc_point_multiplication(self.base_point, private_key)\n",
        "\n",
        "        return private_key, public_key\n",
        "\n",
        "  def encrypt(self, plaintext_point, public_key, k=None):\n",
        "      \"\"\"\n",
        "      Encrypt a point on the elliptic curve using the public key.\n",
        "      \"\"\"\n",
        "      if k is None:\n",
        "          k = random.randint(1, self.p - 1)\n",
        "\n",
        "      C1 = self.calc_point_multiplication(self.base_point, k)\n",
        "\n",
        "      k_e2 = self.calc_point_multiplication(public_key, k)\n",
        "\n",
        "      C2 = self.calc_point_add(plaintext_point, k_e2)\n",
        "\n",
        "      return C1, C2\n",
        "\n",
        "\n",
        "  def decrypt(self, C1, C2, private_key):\n",
        "        \"\"\"\n",
        "        Decrypt a ciphertext pair (C1, C2) using the private key.\n",
        "        \"\"\"\n",
        "        d_C1 = self.calc_point_multiplication(C1, private_key)\n",
        "\n",
        "        plaintext_point = self.calc_point_subtraction(C2, d_C1)\n",
        "\n",
        "        return plaintext_point\n",
        "\n",
        "  def get_all_points(self):\n",
        "      \"\"\"\n",
        "      Generate all valid points on the elliptic curve.\n",
        "      \"\"\"\n",
        "      points = [Point()]\n",
        "      for x in range(self.p):\n",
        "          y_squared = self.elliptic_curve_equation(x)\n",
        "          for y in range(self.p):\n",
        "              if (y**2) % self.p == y_squared:\n",
        "                  points.append(Point(x, y))\n",
        "\n",
        "      return points\n",
        "\n",
        "  def create_mappings(self):\n",
        "    valid_points = [point for point in self.valid_points]\n",
        "\n",
        "    if len(valid_points) != len(self.characters):\n",
        "        raise ValueError(\"Mismatch between the number of valid points and characters.\")\n",
        "\n",
        "    point_to_char = {point: char for point, char in zip(valid_points, self.characters)}\n",
        "\n",
        "    char_to_point = {char: point for point, char in point_to_char.items()}\n",
        "\n",
        "    return point_to_char, char_to_point\n",
        "\n",
        "\n",
        "  def encode_character(self, char):\n",
        "        \"\"\"Encode a character to a point on the elliptic curve.\"\"\"\n",
        "        if char not in self.char_to_point:\n",
        "            raise ValueError(f\"Character '{char}' not in mapping.\")\n",
        "\n",
        "        return self.char_to_point[char]\n",
        "\n",
        "  def decode_point(self, point):\n",
        "        \"\"\"Decode a point on the elliptic curve to a character.\"\"\"\n",
        "        if point not in self.point_to_char:\n",
        "            raise ValueError(f\"Point '{point}' not in mapping.\")\n",
        "\n",
        "        return self.point_to_char[point]\n",
        "\n",
        "  def encrypt_message(self, message, public_key):\n",
        "      \"\"\"\n",
        "      Encrypt a message using the elliptic curve encryption scheme and return a character-based ciphertext.\n",
        "      \"\"\"\n",
        "      ciphertext = \"\"\n",
        "\n",
        "      for char in message:\n",
        "          plaintext_point = self.encode_character(char)\n",
        "\n",
        "          C1, C2 = self.encrypt(plaintext_point, public_key)\n",
        "\n",
        "          encrypted_char_C1 = self.decode_point(C1)\n",
        "          encrypted_char_C2 = self.decode_point(C2)\n",
        "\n",
        "          ciphertext += encrypted_char_C1 + encrypted_char_C2\n",
        "\n",
        "      return ciphertext\n",
        "\n",
        "  # def decrypt_message(self, ciphertext, private_key):\n",
        "  #     \"\"\"\n",
        "  #     Decrypt a ciphertext into its plaintext message using the private key.\n",
        "  #     \"\"\"\n",
        "  #     plaintext = \"\"\n",
        "  #     for i in range(0, len(ciphertext), 2):\n",
        "  #         C1 = self.encode_character(ciphertext[i])\n",
        "  #         C2 = self.encode_character(ciphertext[i + 1])\n",
        "\n",
        "  #         decrypted_point = self.decrypt(C1, C2, private_key)\n",
        "  #         char = self.decode_point(decrypted_point)\n",
        "  #         plaintext += char\n",
        "\n",
        "  #     return plaintext\n",
        "\n",
        "  def decrypt_message(self, ciphertext, private_key):\n",
        "    \"\"\"\n",
        "    Decrypt a ciphertext into its plaintext message using the private key.\n",
        "    \"\"\"\n",
        "    if len(ciphertext) % 2 != 0:\n",
        "        raise ValueError(\"Ciphertext length must be even to form valid (C1, C2) pairs.\")\n",
        "\n",
        "    plaintext = \"\"\n",
        "\n",
        "    for i in range(0, len(ciphertext), 2):\n",
        "        C1 = self.encode_character(ciphertext[i])\n",
        "        C2 = self.encode_character(ciphertext[i + 1])\n",
        "\n",
        "        decrypted_point = self.decrypt(C1, C2, private_key)\n",
        "        char = self.decode_point(decrypted_point)\n",
        "        plaintext += char\n",
        "\n",
        "    return plaintext\n"
      ],
      "metadata": {
        "id": "GwQf5FZa12kx"
      },
      "execution_count": 75,
      "outputs": []
    },
    {
      "cell_type": "markdown",
      "source": [
        "# Compression"
      ],
      "metadata": {
        "id": "QIiTlG3814n7"
      }
    },
    {
      "cell_type": "markdown",
      "source": [
        "## Huffman Coding"
      ],
      "metadata": {
        "id": "_cFWtzqb18g1"
      }
    },
    {
      "cell_type": "code",
      "source": [
        "import heapq\n",
        "from collections import Counter\n",
        "\n",
        "\n",
        "class HuffmanNode:\n",
        "    def __init__(self, char, freq):\n",
        "        self.char = char\n",
        "        self.freq = freq\n",
        "        self.left = None\n",
        "        self.right = None\n",
        "\n",
        "    def __lt__(self, other):\n",
        "        return self.freq < other.freq\n",
        "\n",
        "\n",
        "class HuffmanCoding:\n",
        "    @staticmethod\n",
        "    def build_frequency_table(text):\n",
        "        \"\"\"Build a frequency table for the given text.\"\"\"\n",
        "        return Counter(text)\n",
        "\n",
        "    @staticmethod\n",
        "    def build_huffman_tree(freq_table):\n",
        "        \"\"\"Build the Huffman Tree based on the frequency table.\"\"\"\n",
        "        heap = [HuffmanNode(char, freq) for char, freq in freq_table.items()]\n",
        "        heapq.heapify(heap)\n",
        "\n",
        "        while len(heap) > 1:\n",
        "            left = heapq.heappop(heap)\n",
        "            right = heapq.heappop(heap)\n",
        "            merged = HuffmanNode(None, left.freq + right.freq)\n",
        "            merged.left = left\n",
        "            merged.right = right\n",
        "            heapq.heappush(heap, merged)\n",
        "\n",
        "        return heap[0] if heap else None\n",
        "\n",
        "    @staticmethod\n",
        "    def generate_huffman_codes(node, prefix='', codebook=None):\n",
        "        \"\"\"Recursively generate Huffman codes for each character.\"\"\"\n",
        "        if codebook is None:\n",
        "            codebook = {}\n",
        "        if node is None:\n",
        "            return codebook\n",
        "\n",
        "        if node.char is not None:\n",
        "            codebook[node.char] = prefix\n",
        "        else:\n",
        "            HuffmanCoding.generate_huffman_codes(\n",
        "                node.left, prefix + '0', codebook)\n",
        "            HuffmanCoding.generate_huffman_codes(\n",
        "                node.right, prefix + '1', codebook)\n",
        "\n",
        "        return codebook\n",
        "\n",
        "    @staticmethod\n",
        "    def encode(text, codebook):\n",
        "        \"\"\"Encode the input text using the Huffman codebook.\"\"\"\n",
        "        bitstring = ''.join(codebook[char] for char in text)\n",
        "        return bitstring\n",
        "\n",
        "    @staticmethod\n",
        "    def decode(bitstring, huffman_tree):\n",
        "        \"\"\"Decode the encoded bitstring back to the original text.\"\"\"\n",
        "        decoded_text = []\n",
        "        node = huffman_tree\n",
        "\n",
        "        for bit in bitstring:\n",
        "            node = node.left if bit == '0' else node.right\n",
        "            if node.char is not None:\n",
        "                decoded_text.append(node.char)\n",
        "                node = huffman_tree\n",
        "\n",
        "        return ''.join(decoded_text)\n",
        "\n",
        "    @staticmethod\n",
        "    def build_huffman(text):\n",
        "        \"\"\"Build the Huffman tree, generate codes, and encode the text.\"\"\"\n",
        "        freq_table = HuffmanCoding.build_frequency_table(text)\n",
        "\n",
        "        huffman_tree = HuffmanCoding.build_huffman_tree(freq_table)\n",
        "\n",
        "        codebook = HuffmanCoding.generate_huffman_codes(huffman_tree)\n",
        "\n",
        "        encoded_text = HuffmanCoding.encode(text, codebook)\n",
        "\n",
        "        return encoded_text, huffman_tree"
      ],
      "metadata": {
        "id": "9lNh4YbF19Yn"
      },
      "execution_count": 76,
      "outputs": []
    },
    {
      "cell_type": "code",
      "source": [
        "input_text = 'hello world!'\n",
        "\n",
        "huffman = HuffmanCoding()\n",
        "\n",
        "compressed_message, huffman_tree = huffman.build_huffman(input_text) # it take message and return bits\n",
        "\n",
        "decoded_text = huffman.decode(compressed_message, huffman_tree) # it take bits and return message\n",
        "\n",
        "assert input_text == decoded_text, \"Decoded text does not match the original!\"\n",
        "\n",
        "input_text, decoded_text"
      ],
      "metadata": {
        "colab": {
          "base_uri": "https://localhost:8080/"
        },
        "id": "C7wzlHvg4HVU",
        "outputId": "2861a19c-db07-4bdf-d8c8-ae2199800ad8"
      },
      "execution_count": 77,
      "outputs": [
        {
          "output_type": "execute_result",
          "data": {
            "text/plain": [
              "('hello world!', 'hello world!')"
            ]
          },
          "metadata": {},
          "execution_count": 77
        }
      ]
    },
    {
      "cell_type": "code",
      "source": [
        "compressed_message"
      ],
      "metadata": {
        "colab": {
          "base_uri": "https://localhost:8080/",
          "height": 35
        },
        "id": "IMM5qE-N4Ipf",
        "outputId": "8f1f4710-2e28-4b94-92b1-615008798787"
      },
      "execution_count": 78,
      "outputs": [
        {
          "output_type": "execute_result",
          "data": {
            "text/plain": [
              "'1110110101011011100001101000011111100'"
            ],
            "application/vnd.google.colaboratory.intrinsic+json": {
              "type": "string"
            }
          },
          "metadata": {},
          "execution_count": 78
        }
      ]
    },
    {
      "cell_type": "markdown",
      "source": [
        "## Lampel Ziv Welch"
      ],
      "metadata": {
        "id": "l9sCjXcv2A8L"
      }
    },
    {
      "cell_type": "code",
      "source": [
        "class LZW:\n",
        "    def __init__(self):\n",
        "        self.dictionary_size = 256\n",
        "\n",
        "    def compress(self, input_string):\n",
        "        \"\"\"\n",
        "        Compress a string using LZW algorithm and return a 32-bit encoded bit string.\n",
        "        \"\"\"\n",
        "        if not input_string:\n",
        "            return \"\"\n",
        "\n",
        "        # Initialize dictionary\n",
        "        dictionary = {chr(i): i for i in range(self.dictionary_size)}\n",
        "        next_code = self.dictionary_size\n",
        "\n",
        "        current_string = \"\"\n",
        "        compressed_data = []\n",
        "\n",
        "        for char in input_string:\n",
        "            current_string_plus_char = current_string + char\n",
        "            if current_string_plus_char in dictionary:\n",
        "                current_string = current_string_plus_char\n",
        "            else:\n",
        "                compressed_data.append(dictionary[current_string])\n",
        "                dictionary[current_string_plus_char] = next_code\n",
        "                next_code += 1\n",
        "                current_string = char\n",
        "\n",
        "        print(f'code {next_code}')\n",
        "\n",
        "        if current_string:\n",
        "            compressed_data.append(dictionary[current_string])\n",
        "\n",
        "        # Convert compressed codes to 32-bit binary strings\n",
        "        bit_output = ''.join(format(code, '032b') for code in compressed_data)\n",
        "        return bit_output\n",
        "\n",
        "    def decompress(self, compressed_bits):\n",
        "        \"\"\"\n",
        "        Decompress a 32-bit encoded bit string back into the original message.\n",
        "        \"\"\"\n",
        "        if not compressed_bits:\n",
        "            return \"\"\n",
        "\n",
        "        # Convert 32-bit binary chunks back to integer codes\n",
        "        compressed_data = [int(compressed_bits[i:i+32], 2) for i in range(0, len(compressed_bits), 32)]\n",
        "\n",
        "        # Initialize dictionary\n",
        "        dictionary = {i: chr(i) for i in range(self.dictionary_size)}\n",
        "        next_code = self.dictionary_size\n",
        "\n",
        "        current_code = compressed_data[0]\n",
        "        decompressed_string = dictionary[current_code]\n",
        "        current_string = decompressed_string\n",
        "\n",
        "        for code in compressed_data[1:]:\n",
        "            if code in dictionary:\n",
        "                entry = dictionary[code]\n",
        "            elif code == next_code:\n",
        "                entry = current_string + current_string[0]\n",
        "            decompressed_string += entry\n",
        "\n",
        "            dictionary[next_code] = current_string + entry[0]\n",
        "            next_code += 1\n",
        "            current_string = entry\n",
        "\n",
        "        return decompressed_string\n"
      ],
      "metadata": {
        "id": "GSpIID052Cog"
      },
      "execution_count": 79,
      "outputs": []
    },
    {
      "cell_type": "markdown",
      "source": [
        "# ASCII Bit Encoder"
      ],
      "metadata": {
        "id": "7EwEbGPQ2mBZ"
      }
    },
    {
      "cell_type": "code",
      "source": [
        "def encode_with_padding_info(bits):\n",
        "    # Step 1: Calculate the padding needed to make the bit length a multiple of 8\n",
        "    padding_needed = (8 - len(bits) % 8) % 8  # Number of bits to pad\n",
        "\n",
        "    # Step 2: Embed the padding length in the first 8 bits\n",
        "    padding_length_bits = format(padding_needed, '08b')  # 8-bit binary representation of padding length\n",
        "\n",
        "    # Step 3: Pad the message with zeroes (if any padding is needed)\n",
        "    padded_bits = bits + '0' * padding_needed\n",
        "\n",
        "    # Step 4: Combine the padding information and the padded bits\n",
        "    full_message = padding_length_bits + padded_bits\n",
        "\n",
        "    # Step 5: Convert the full message into 8-bit chunks and encode as ASCII\n",
        "    encoded_chars = [chr(int(full_message[i:i+8], 2)) for i in range(0, len(full_message), 8)]\n",
        "\n",
        "    return ''.join(encoded_chars)\n",
        "\n",
        "def decode_with_padding_info(encoded):\n",
        "    # Step 1: Convert the encoded ASCII string back to a bit string\n",
        "    bits = ''.join(format(ord(c), '08b') for c in encoded)\n",
        "\n",
        "    # Step 2: Extract the first 8 bits as padding length\n",
        "    padding_length_bits = bits[:8]\n",
        "    padding_length = int(padding_length_bits, 2)\n",
        "\n",
        "    # Step 3: Extract the actual message bits (without the padding)\n",
        "    message_bits = bits[8:]  # Exclude the first 8 bits (padding length)\n",
        "\n",
        "    # Step 4: Remove the padding bits\n",
        "    message_bits = message_bits[:-padding_length] if padding_length > 0 else message_bits\n",
        "\n",
        "    return message_bits\n",
        "\n",
        "# Example usage:\n",
        "# Input: a string of bits (no conversion from text)\n",
        "bits = message_to_bit(repeated_data)\n",
        "# bits = \"0100010101010101010101000100101010101010100010111110100101\"\n",
        "# print(f\"Original bits: {bits}\")\n",
        "\n",
        "# Encode the bit string with the embedded padding information\n",
        "encoded_bits = encode_with_padding_info(bits)\n",
        "# print(f\"Encoded bits as ASCII: {encoded_bits}\")\n",
        "\n",
        "# Decode the encoded string to get the original bit string back (without padding)\n",
        "decoded_bits = decode_with_padding_info(encoded_bits)\n",
        "# print(f\"Decoded bits: {decoded_bits}\")\n",
        "\n",
        "assert all(1 <= ord(c) <= 255 for c in encoded_bits), \"Error: Non-ASCII-safe characters found!\"\n",
        "assert bits == decoded_bits"
      ],
      "metadata": {
        "colab": {
          "base_uri": "https://localhost:8080/",
          "height": 193
        },
        "id": "YL8u1WIb2nZI",
        "outputId": "3ad76a6d-8501-4bbb-e312-3e6722e7a327"
      },
      "execution_count": 85,
      "outputs": [
        {
          "output_type": "error",
          "ename": "AssertionError",
          "evalue": "Error: Non-ASCII-safe characters found!",
          "traceback": [
            "\u001b[0;31m---------------------------------------------------------------------------\u001b[0m",
            "\u001b[0;31mAssertionError\u001b[0m                            Traceback (most recent call last)",
            "\u001b[0;32m<ipython-input-85-0e67279a5d12>\u001b[0m in \u001b[0;36m<cell line: 0>\u001b[0;34m()\u001b[0m\n\u001b[1;32m     47\u001b[0m \u001b[0;31m# print(f\"Decoded bits: {decoded_bits}\")\u001b[0m\u001b[0;34m\u001b[0m\u001b[0;34m\u001b[0m\u001b[0m\n\u001b[1;32m     48\u001b[0m \u001b[0;34m\u001b[0m\u001b[0m\n\u001b[0;32m---> 49\u001b[0;31m \u001b[0;32massert\u001b[0m \u001b[0mall\u001b[0m\u001b[0;34m(\u001b[0m\u001b[0;36m1\u001b[0m \u001b[0;34m<=\u001b[0m \u001b[0mord\u001b[0m\u001b[0;34m(\u001b[0m\u001b[0mc\u001b[0m\u001b[0;34m)\u001b[0m \u001b[0;34m<=\u001b[0m \u001b[0;36m255\u001b[0m \u001b[0;32mfor\u001b[0m \u001b[0mc\u001b[0m \u001b[0;32min\u001b[0m \u001b[0mencoded_bits\u001b[0m\u001b[0;34m)\u001b[0m\u001b[0;34m,\u001b[0m \u001b[0;34m\"Error: Non-ASCII-safe characters found!\"\u001b[0m\u001b[0;34m\u001b[0m\u001b[0;34m\u001b[0m\u001b[0m\n\u001b[0m\u001b[1;32m     50\u001b[0m \u001b[0;32massert\u001b[0m \u001b[0mbits\u001b[0m \u001b[0;34m==\u001b[0m \u001b[0mdecoded_bits\u001b[0m\u001b[0;34m\u001b[0m\u001b[0;34m\u001b[0m\u001b[0m\n",
            "\u001b[0;31mAssertionError\u001b[0m: Error: Non-ASCII-safe characters found!"
          ]
        }
      ]
    },
    {
      "cell_type": "code",
      "source": [
        "# def encode_with_padding_info(bits):\n",
        "#     # Step 1: Calculate the padding needed to make the bit length a multiple of 8\n",
        "#     padding_needed = (8 - len(bits) % 8) % 8  # Number of bits to pad\n",
        "\n",
        "#     # Step 2: Embed the padding length in the first 8 bits\n",
        "#     padding_length_bits = format(padding_needed, '08b')  # 8-bit binary representation of padding length\n",
        "\n",
        "#     # Step 3: Pad the message with zeroes (if any padding is needed)\n",
        "#     padded_bits = bits + '0' * padding_needed\n",
        "\n",
        "#     # Step 4: Combine the padding information and the padded bits\n",
        "#     full_message = padding_length_bits + padded_bits\n",
        "\n",
        "#     # Step 5: Convert the full message into 8-bit chunks and encode as ASCII\n",
        "#     encoded_chars = []\n",
        "#     for i in range(0, len(full_message), 8):\n",
        "#         byte = full_message[i:i+8]\n",
        "#         if len(byte) == 8:  # Only create characters from full 8-bit chunks\n",
        "#             encoded_chars.append(chr(int(byte, 2)))\n",
        "\n",
        "#     # Join all encoded ASCII characters into a final string\n",
        "#     return ''.join(encoded_chars)\n",
        "\n",
        "# def decode_with_padding_info(encoded):\n",
        "#     # Step 1: Convert the encoded ASCII string back to a bit string\n",
        "#     bits = ''.join(format(ord(c), '08b') for c in encoded)\n",
        "\n",
        "#     # Step 2: Extract the first 8 bits as padding length\n",
        "#     padding_length_bits = bits[:8]\n",
        "#     padding_length = int(padding_length_bits, 2)\n",
        "\n",
        "#     # Step 3: Extract the actual message bits (without the padding)\n",
        "#     message_bits = bits[8:]  # Exclude the first 8 bits (padding length)\n",
        "\n",
        "#     # Step 4: Remove the padding bits\n",
        "#     message_bits = message_bits[:-padding_length] if padding_length > 0 else message_bits\n",
        "\n",
        "#     return message_bits\n",
        "\n",
        "# def validate_ascii(encoded_bits):\n",
        "#     invalid_chars = []\n",
        "#     for char in encoded_bits:\n",
        "#         if not (1 <= ord(char) <= 255):  # Check if the char is within valid ASCII range\n",
        "#             invalid_chars.append(char)\n",
        "\n",
        "#     if invalid_chars:\n",
        "#         print(f\"Invalid ASCII characters found: {invalid_chars}\")\n",
        "#         return False\n",
        "#     return True\n",
        "\n",
        "# # Example usage:\n",
        "# # Define a bit string as an example (make sure it's a valid input)\n",
        "# bits = message_to_bit(repeated_data)\n",
        "\n",
        "# # Encode the bit string with the embedded padding information\n",
        "# encoded_bits = encode_with_padding_info(bits)\n",
        "\n",
        "# # Ensure that the encoded bits consist of valid ASCII characters\n",
        "# assert validate_ascii(encoded_bits), \"Error: Non-ASCII-safe characters found!\"\n",
        "\n",
        "# # Decode the encoded string to get the original bit string back (without padding)\n",
        "# decoded_bits = decode_with_padding_info(encoded_bits)\n",
        "\n",
        "# # Ensure that the original bit string is the same as the decoded bits\n",
        "# assert bits == decoded_bits, \"Error: Decoded bits do not match the original bits!\""
      ],
      "metadata": {
        "id": "3py_SC5q55Aa"
      },
      "execution_count": null,
      "outputs": []
    },
    {
      "cell_type": "code",
      "source": [
        "# def validate_ascii(encoded_bits):\n",
        "#     invalid_chars = []\n",
        "#     for char in encoded_bits:\n",
        "#         if not (1 <= ord(char) <= 255):  # Check if the char is within valid ASCII range\n",
        "#             invalid_chars.append(char)\n",
        "\n",
        "#     if invalid_chars:\n",
        "#         print(f\"Invalid ASCII characters found: {invalid_chars}\")\n",
        "#         return invalid_chars\n",
        "#     return True\n",
        "\n",
        "# lorem = validate_ascii(encoded_bits)[0]\n",
        "# lorem"
      ],
      "metadata": {
        "id": "dPSh159T8ZRh"
      },
      "execution_count": null,
      "outputs": []
    },
    {
      "cell_type": "code",
      "source": [
        "# def char_to_bits(char):\n",
        "#     # Step 1: Get the ASCII value of the character using ord()\n",
        "#     ascii_value = ord(char)\n",
        "\n",
        "#     # Step 2: Convert the ASCII value to binary and pad it to 8 bits\n",
        "#     bits = format(ascii_value, '08b')  # '08b' ensures it's padded to 8 bits\n",
        "\n",
        "#     return bits\n",
        "\n",
        "# # Example usage:\n",
        "# char = lorem\n",
        "# bit_representation = char_to_bits(char)\n",
        "# print(f\"Character: {char}, Bits: {bit_representation}\")\n"
      ],
      "metadata": {
        "id": "rNusAU7E8rQa"
      },
      "execution_count": null,
      "outputs": []
    },
    {
      "cell_type": "code",
      "source": [
        "# def encode_with_padding_info(bits):\n",
        "#     # Step 1: Calculate the padding needed to make the bit length a multiple of 8\n",
        "#     padding_needed = (8 - len(bits) % 8) % 8  # Number of bits to pad\n",
        "\n",
        "#     # Step 2: Embed the padding length in the first 8 bits\n",
        "#     padding_length_bits = format(padding_needed, '08b')  # 8-bit binary representation of padding length\n",
        "\n",
        "#     # Step 3: Pad the message with zeroes (if any padding is needed)\n",
        "#     padded_bits = bits + '0' * padding_needed\n",
        "\n",
        "#     # Step 4: Combine the padding information and the padded bits\n",
        "#     full_message = padding_length_bits + padded_bits\n",
        "\n",
        "#     # Step 5: Convert the full message into 8-bit chunks and encode as ASCII\n",
        "#     encoded_chars = []\n",
        "#     for i in range(0, len(full_message), 8):\n",
        "#         byte = full_message[i:i+8]\n",
        "#         if len(byte) == 8:  # Only create characters from full 8-bit chunks\n",
        "#             byte_value = int(byte, 2)\n",
        "#             # Ensure the byte value is within the valid ASCII range (1-255)\n",
        "#             if 1 <= byte_value <= 255:\n",
        "#                 encoded_chars.append(chr(byte_value))\n",
        "#             else:\n",
        "#                 raise ValueError(f\"Invalid ASCII value: {byte_value}\")\n",
        "\n",
        "#     # Join all encoded ASCII characters into a final string\n",
        "#     return ''.join(encoded_chars)\n",
        "\n",
        "# def decode_with_padding_info(encoded):\n",
        "#     # Step 1: Convert the encoded ASCII string back to a bit string\n",
        "#     bits = ''.join(format(ord(c), '08b') for c in encoded)\n",
        "\n",
        "#     # Step 2: Extract the first 8 bits as padding length\n",
        "#     padding_length_bits = bits[:8]\n",
        "#     padding_length = int(padding_length_bits, 2)\n",
        "\n",
        "#     # Step 3: Extract the actual message bits (without the padding)\n",
        "#     message_bits = bits[8:]  # Exclude the first 8 bits (padding length)\n",
        "\n",
        "#     # Step 4: Remove the padding bits\n",
        "#     message_bits = message_bits[:-padding_length] if padding_length > 0 else message_bits\n",
        "\n",
        "#     return message_bits\n",
        "\n",
        "# # Helper function to ensure valid ASCII\n",
        "# def validate_ascii(encoded_bits):\n",
        "#     # Check if all characters in the encoded string are within the ASCII range (1-255)\n",
        "#     return all(1 <= ord(c) <= 255 for c in encoded_bits)\n",
        "\n",
        "# # Example usage:\n",
        "# # Define a bit string as an example (make sure it's a valid input)\n",
        "# bits = \"0100010101010101010101000100101010101010100010111110100101\"  # Example input bit string\n",
        "\n",
        "# # Encode the bit string with the embedded padding information\n",
        "# encoded_bits = encode_with_padding_info(bits)\n",
        "\n",
        "# # Ensure that the encoded bits consist of valid ASCII characters\n",
        "# if validate_ascii(encoded_bits):\n",
        "#     print(f\"Encoded bits as ASCII: {encoded_bits}\")\n",
        "# else:\n",
        "#     print(\"Error: Non-ASCII-safe characters found!\")\n",
        "\n",
        "# # Decode the encoded string to get the original bit string back (without padding)\n",
        "# decoded_bits = decode_with_padding_info(encoded_bits)\n",
        "\n",
        "# # Ensure that the original bit string is the same as the decoded bits\n",
        "# assert bits == decoded_bits, \"Error: Decoded bits do not match the original bits!\"\n",
        "\n",
        "# # Output results for verification\n",
        "# print(f\"Original bits: {bits}\")\n",
        "# print(f\"Decoded bits: {decoded_bits}\")\n"
      ],
      "metadata": {
        "colab": {
          "base_uri": "https://localhost:8080/"
        },
        "id": "BzUpLsSM6a87",
        "outputId": "a778b7cb-c0ab-4b86-bc16-4426866e481b"
      },
      "execution_count": 81,
      "outputs": [
        {
          "output_type": "stream",
          "name": "stdout",
          "text": [
            "Encoded bits as ASCII: \u0006EUTJªé@\n",
            "Original bits: 0100010101010101010101000100101010101010100010111110100101\n",
            "Decoded bits: 0100010101010101010101000100101010101010100010111110100101\n"
          ]
        }
      ]
    },
    {
      "cell_type": "code",
      "source": [
        "# def encode_with_padding_info(bits):\n",
        "#     # Step 1: Calculate the padding needed to make the bit length a multiple of 8\n",
        "#     padding_needed = (8 - len(bits) % 8) % 8  # Number of bits to pad\n",
        "\n",
        "#     # Step 2: Embed the padding length in the first 8 bits\n",
        "#     padding_length_bits = format(padding_needed, '08b')  # 8-bit binary representation of padding length\n",
        "\n",
        "#     # Step 3: Pad the message with zeroes (if any padding is needed)\n",
        "#     padded_bits = bits + '0' * padding_needed\n",
        "\n",
        "#     # Step 4: Combine the padding information and the padded bits\n",
        "#     full_message = padding_length_bits + padded_bits\n",
        "\n",
        "#     # Step 5: Convert the full message into 8-bit chunks and encode as ASCII\n",
        "#     # encoded_chars = [chr(int(full_message[i:i+8], 2)) for i in range(0, len(full_message), 8)]\n",
        "\n",
        "#     # return ''.join(encoded_chars)\n",
        "\n",
        "#     return full_message\n",
        "\n",
        "# def decode_with_padding_info(bits):\n",
        "#     # Step 1: Convert the encoded ASCII string back to a bit string\n",
        "#     # bits = ''.join(format(ord(c), '08b') for c in encoded)\n",
        "\n",
        "#     # Step 2: Extract the first 8 bits as padding length\n",
        "#     padding_length_bits = bits[:8]\n",
        "#     padding_length = int(padding_length_bits, 2)\n",
        "\n",
        "#     # Step 3: Extract the actual message bits (without the padding)\n",
        "#     message_bits = bits[8:]  # Exclude the first 8 bits (padding length)\n",
        "\n",
        "#     # Step 4: Remove the padding bits\n",
        "#     message_bits = message_bits[:-padding_length] if padding_length > 0 else message_bits\n",
        "\n",
        "#     return message_bits\n",
        "\n",
        "# # Example usage:\n",
        "# # Input: a string of bits (no conversion from text)\n",
        "# bits = \"0100010101010101010101000100101010101010100010111110100101\"\n",
        "# print(f\"Original bits: {bits}\")\n",
        "\n",
        "# # Encode the bit string with the embedded padding information\n",
        "# encoded_bits = encode_with_padding_info(bits)\n",
        "# print(f\"Encoded bits as ASCII: {encoded_bits}\")\n",
        "\n",
        "# # Decode the encoded string to get the original bit string back (without padding)\n",
        "# decoded_bits = decode_with_padding_info(encoded_bits)\n",
        "# print(f\"Decoded bits: {decoded_bits}\")\n",
        "\n",
        "# assert all(1 <= ord(c) <= 255 for c in encoded_bits), \"Error: Non-ASCII-safe characters found!\"\n",
        "# assert bits == decoded_bits\n",
        "# assert len(encoded_bits) % 8 == 0"
      ],
      "metadata": {
        "id": "YUr02OaV3227"
      },
      "execution_count": null,
      "outputs": []
    },
    {
      "cell_type": "markdown",
      "source": [
        "# Scenarios"
      ],
      "metadata": {
        "id": "srdArsY62EfS"
      }
    },
    {
      "cell_type": "markdown",
      "source": [
        "## ECEGLSB"
      ],
      "metadata": {
        "id": "-MOt9k372MI4"
      }
    },
    {
      "cell_type": "code",
      "source": [
        "k = 4\n",
        "lsb = LeastSignificantBit(k_val=k)\n",
        "\n",
        "input_image_path = 'lena.png'\n",
        "output_image_path = 'lsbeceg.png'\n",
        "\n",
        "max_chars, max_bits = lsb.calculate_max_message_size(input_image_path)\n",
        "repeated_data = (merged_ktps[0] * (((max_chars // 2) - 9000) // len(merged_ktps[0]) + 1))[:((max_chars // 2) - 9000)]\n",
        "\n",
        "eceg = EllipticCurveElGamal()\n",
        "\n",
        "private_key, public_key = eceg.generate_keys()\n",
        "\n",
        "ciphertext = eceg.encrypt_message(repeated_data, public_key)\n",
        "\n",
        "message = message_to_bit(ciphertext)\n",
        "\n",
        "_ = lsb.embed_message(input_image_path, output_image_path, message)\n",
        "\n",
        "extracted_message = lsb.extract_message(output_image_path)\n",
        "\n",
        "return_message = bit_to_message(extracted_message)\n",
        "\n",
        "decrypted_message = eceg.decrypt_message(return_message, private_key)\n",
        "\n",
        "assert repeated_data == decrypted_message\n",
        "\n",
        "bits_information(len(message_to_bit(repeated_data)))\n",
        "\n",
        "stego_metrics.calculate_metrics(output_image_path)\n",
        "\n",
        "print_png_file_sizes(output_image_path)"
      ],
      "metadata": {
        "colab": {
          "base_uri": "https://localhost:8080/"
        },
        "id": "y9yyJ-OG2N3f",
        "outputId": "ea61c1a0-5e57-4caf-89f7-6e089239a142"
      },
      "execution_count": 86,
      "outputs": [
        {
          "output_type": "stream",
          "name": "stdout",
          "text": [
            "embbed message 3001696\n",
            "extract message 3001696\n",
            "3145728\n",
            "1500848 bits is:\n",
            "183.21 KB\n",
            "0.1789 MB\n",
            "0.000175 GB\n",
            "0.000000171 TB\n",
            "\n",
            "Metrics between original (lena.png) and stego image (lsbeceg.png):\n",
            "MSE: 41.67235565185547\n",
            "PSNR: 31.932323099502\n",
            "SSIM: 0.8873803520231563\n",
            "The size of the file 'lena.png' is: 468.53 KB\n",
            "The size of the file 'lsbeceg.png' is: 542.42 KB\n"
          ]
        }
      ]
    },
    {
      "cell_type": "markdown",
      "source": [
        "## HuffmanECEGLSB"
      ],
      "metadata": {
        "id": "aKjNTqth2GGe"
      }
    },
    {
      "cell_type": "code",
      "source": [
        "k = 4\n",
        "lsb = LeastSignificantBit(k_val=k)\n",
        "\n",
        "input_image_path = 'lena.png'\n",
        "output_image_path = 'lsbeceg.png'\n",
        "\n",
        "max_chars, max_bits = lsb.calculate_max_message_size(input_image_path)\n",
        "repeated_data = (merged_ktps[0] * (((max_chars // 2) + 80000) // len(merged_ktps[0]) + 1))[:((max_chars // 2) + 80000)]\n",
        "\n",
        "huffman = HuffmanCoding()\n",
        "\n",
        "compressed_message, huffman_tree = huffman.build_huffman(repeated_data)\n",
        "\n",
        "valid_bit = encode_with_padding_info(compressed_message)\n",
        "\n",
        "eceg = EllipticCurveElGamal()\n",
        "\n",
        "private_key, public_key = eceg.generate_keys()\n",
        "\n",
        "ciphertext = eceg.encrypt_message(valid_bit, public_key)\n",
        "\n",
        "message = message_to_bit(ciphertext)\n",
        "\n",
        "_ = lsb.embed_message(input_image_path, output_image_path, message)\n",
        "\n",
        "extracted_message = lsb.extract_message(output_image_path)\n",
        "\n",
        "assert message == extracted_message\n",
        "\n",
        "return_message = bit_to_message(extracted_message)\n",
        "\n",
        "decrypted_message = eceg.decrypt_message(return_message, private_key)\n",
        "\n",
        "assert valid_bit == decrypted_message\n",
        "\n",
        "decoded_bits = decode_with_padding_info(decrypted_message)\n",
        "\n",
        "assert compressed_message == decoded_bits\n",
        "\n",
        "decoded_text = huffman.decode(compressed_message, huffman_tree)\n",
        "\n",
        "assert repeated_data == decoded_text\n",
        "\n",
        "bits_information(len(message_to_bit(repeated_data)))\n",
        "\n",
        "stego_metrics.calculate_metrics(output_image_path)\n",
        "\n",
        "print_png_file_sizes(output_image_path)"
      ],
      "metadata": {
        "colab": {
          "base_uri": "https://localhost:8080/"
        },
        "id": "aRvJASy62eF2",
        "outputId": "67e3e78e-6346-4135-d03d-79284ca9656d"
      },
      "execution_count": 87,
      "outputs": [
        {
          "output_type": "stream",
          "name": "stdout",
          "text": [
            "embbed message 2884608\n",
            "extract message 2884608\n",
            "3145728\n",
            "2212848 bits is:\n",
            "270.12 KB\n",
            "0.2638 MB\n",
            "0.000258 GB\n",
            "0.000000252 TB\n",
            "\n",
            "Metrics between original (lena.png) and stego image (lsbeceg.png):\n",
            "MSE: 40.09645462036133\n",
            "PSNR: 32.099743874218966\n",
            "SSIM: 0.8916505608695324\n",
            "The size of the file 'lena.png' is: 468.53 KB\n",
            "The size of the file 'lsbeceg.png' is: 539.60 KB\n"
          ]
        }
      ]
    },
    {
      "cell_type": "code",
      "source": [
        "(2212848 - 1500848 ) / 2212848"
      ],
      "metadata": {
        "colab": {
          "base_uri": "https://localhost:8080/"
        },
        "id": "m2aLpHQ3C2c8",
        "outputId": "a30022eb-938c-4b5c-bec6-da0fc08fcc90"
      },
      "execution_count": 88,
      "outputs": [
        {
          "output_type": "execute_result",
          "data": {
            "text/plain": [
              "0.3217573009985322"
            ]
          },
          "metadata": {},
          "execution_count": 88
        }
      ]
    },
    {
      "cell_type": "markdown",
      "source": [
        "## LampelZivWelchECEGLSB"
      ],
      "metadata": {
        "id": "jaN54EVRDAfm"
      }
    },
    {
      "cell_type": "code",
      "source": [
        "k = 4\n",
        "lsb = LeastSignificantBit(k_val=k)\n",
        "\n",
        "input_image_path = 'lena.png'\n",
        "output_image_path = 'lsbeceg.png'\n",
        "\n",
        "max_chars, max_bits = lsb.calculate_max_message_size(input_image_path)\n",
        "repeated_data = (merged_ktps[0] * (((max_chars * 14) - 100) // len(merged_ktps[0]) + 1))[:((max_chars * 14) - 100)]\n",
        "print(len(repeated_data))\n",
        "\n",
        "lzw = LZW()\n",
        "\n",
        "compressed_message = lzw.compress(repeated_data)\n",
        "\n",
        "valid_bit = encode_with_padding_info(compressed_message)\n",
        "\n",
        "eceg = EllipticCurveElGamal()\n",
        "\n",
        "private_key, public_key = eceg.generate_keys()\n",
        "\n",
        "ciphertext = eceg.encrypt_message(valid_bit, public_key)\n",
        "\n",
        "message = message_to_bit(ciphertext)\n",
        "\n",
        "_ = lsb.embed_message(input_image_path, output_image_path, message)\n",
        "\n",
        "extracted_message = lsb.extract_message(output_image_path)\n",
        "\n",
        "assert message == extracted_message\n",
        "\n",
        "return_message = bit_to_message(message)\n",
        "\n",
        "decrypted_message = eceg.decrypt_message(return_message, private_key)\n",
        "\n",
        "assert valid_bit == decrypted_message\n",
        "\n",
        "decoded_bits = decode_with_padding_info(decrypted_message)\n",
        "\n",
        "assert compressed_message == decoded_bits\n",
        "\n",
        "decoded_text = lzw.decompress(compressed_message)\n",
        "\n",
        "assert repeated_data == decoded_text\n",
        "\n",
        "bits_information(len(message_to_bit(repeated_data)))\n",
        "\n",
        "stego_metrics.calculate_metrics(output_image_path)\n",
        "\n",
        "print_png_file_sizes(output_image_path)"
      ],
      "metadata": {
        "colab": {
          "base_uri": "https://localhost:8080/"
        },
        "id": "g4Ptd9cmgji4",
        "outputId": "05f58327-21b7-443d-974d-0cae54f53708"
      },
      "execution_count": 92,
      "outputs": [
        {
          "output_type": "stream",
          "name": "stdout",
          "text": [
            "5504868\n",
            "code 43147\n",
            "embbed message 2745104\n",
            "extract message 2745104\n",
            "3145728\n",
            "44038944 bits is:\n",
            "5375.85 KB\n",
            "5.2499 MB\n",
            "0.005127 GB\n",
            "0.000005007 TB\n",
            "\n",
            "Metrics between original (lena.png) and stego image (lsbeceg.png):\n",
            "MSE: 38.70089467366537\n",
            "PSNR: 32.253593558659304\n",
            "SSIM: 0.8986270877900612\n",
            "The size of the file 'lena.png' is: 468.53 KB\n",
            "The size of the file 'lsbeceg.png' is: 536.12 KB\n"
          ]
        }
      ]
    },
    {
      "cell_type": "code",
      "source": [
        "(44038944 - 1500848 ) / 44038944"
      ],
      "metadata": {
        "colab": {
          "base_uri": "https://localhost:8080/"
        },
        "id": "df15ajzjjYFY",
        "outputId": "70fdd2c3-180e-4937-ae55-095727235514"
      },
      "execution_count": 93,
      "outputs": [
        {
          "output_type": "execute_result",
          "data": {
            "text/plain": [
              "0.9659199820958468"
            ]
          },
          "metadata": {},
          "execution_count": 93
        }
      ]
    }
  ]
}